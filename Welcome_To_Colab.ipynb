{
  "cells": [
    {
      "cell_type": "markdown",
      "metadata": {
        "id": "view-in-github",
        "colab_type": "text"
      },
      "source": [
        "<a href=\"https://colab.research.google.com/github/pankaj372/ASS.1/blob/main/Welcome_To_Colab.ipynb\" target=\"_parent\"><img src=\"https://colab.research.google.com/assets/colab-badge.svg\" alt=\"Open In Colab\"/></a>"
      ]
    },
    {
      "cell_type": "markdown",
      "source": [
        "NUMPY ASSIGNMET"
      ],
      "metadata": {
        "id": "1eHlF9BYPiVo"
      }
    },
    {
      "cell_type": "markdown",
      "source": [
        "Q.1  Create a NumPy array 'arr' of integers from 0 to 5 and print its data type.\n"
      ],
      "metadata": {
        "id": "7Kj_3bXIP997"
      }
    },
    {
      "cell_type": "code",
      "source": [
        "import numpy as np\n",
        "\n",
        "# Create a NumPy array of integers from 0 to 5\n",
        "arr = np.arange(6)\n",
        "\n",
        "# Print the array\n",
        "print(\"Array:\", arr)\n",
        "\n",
        "# Print the data type of the array\n",
        "print(\"Data type:\", arr.dtype)\n"
      ],
      "metadata": {
        "colab": {
          "base_uri": "https://localhost:8080/"
        },
        "id": "k1uUbPklQSH5",
        "outputId": "e1567fe5-579e-43a7-cc11-83b8f782280e"
      },
      "execution_count": 1,
      "outputs": [
        {
          "output_type": "stream",
          "name": "stdout",
          "text": [
            "Array: [0 1 2 3 4 5]\n",
            "Data type: int64\n"
          ]
        }
      ]
    },
    {
      "cell_type": "markdown",
      "source": [
        "Q.2  Given a NumPy array 'arr', check if its data type is float64.\n",
        "arr = np.array([1.5, 2.6, 3.7])"
      ],
      "metadata": {
        "id": "f0Jp6FuCQxdO"
      }
    },
    {
      "cell_type": "code",
      "source": [
        "import numpy as np\n",
        "\n",
        "# Given data\n",
        "arr = np.array([1.5, 2.6, 3.7])\n",
        "\n",
        "# Check if the data type of the array is float64\n",
        "is_float64 = arr.dtype == np.float64\n",
        "\n",
        "print(\"Is the array of type float64?\", is_float64)\n"
      ],
      "metadata": {
        "colab": {
          "base_uri": "https://localhost:8080/"
        },
        "id": "xt3Tvjt1QzPf",
        "outputId": "7b184008-f473-4345-b083-ccefc11a5539"
      },
      "execution_count": 2,
      "outputs": [
        {
          "output_type": "stream",
          "name": "stdout",
          "text": [
            "Is the array of type float64? True\n"
          ]
        }
      ]
    },
    {
      "cell_type": "markdown",
      "source": [
        "Q.3  Create a NumPy array 'arr' with a data type of complex128 containing three complex numbers."
      ],
      "metadata": {
        "id": "HiVnIm9yRBWC"
      }
    },
    {
      "cell_type": "code",
      "source": [
        "import numpy as np\n",
        "\n",
        "# Create a NumPy array with complex128 data type\n",
        "arr = np.array([1+2j, 3+4j, 5+6j], dtype=np.complex128)\n",
        "\n",
        "# Print the array\n",
        "print(\"Array:\", arr)\n",
        "\n",
        "# Print the data type of the array\n",
        "print(\"Data type:\", arr.dtype)\n"
      ],
      "metadata": {
        "colab": {
          "base_uri": "https://localhost:8080/"
        },
        "id": "_xx6C3gYRHaw",
        "outputId": "40ce81ca-8227-487c-fdb6-e332a8ba2ced"
      },
      "execution_count": 3,
      "outputs": [
        {
          "output_type": "stream",
          "name": "stdout",
          "text": [
            "Array: [1.+2.j 3.+4.j 5.+6.j]\n",
            "Data type: complex128\n"
          ]
        }
      ]
    },
    {
      "cell_type": "markdown",
      "source": [
        "Q.4  Convert an existing NumPy array 'arr' of integers to float32 data type."
      ],
      "metadata": {
        "id": "Todmzl4HRTnW"
      }
    },
    {
      "cell_type": "code",
      "source": [
        "import numpy as np\n",
        "\n",
        "# Example NumPy array of integers\n",
        "arr = np.array([1, 2, 3, 4, 5])\n",
        "\n",
        "# Convert the array to float32 data type\n",
        "arr_float32 = arr.astype(np.float32)\n",
        "\n",
        "# Print the converted array\n",
        "print(\"Converted array:\", arr_float32)\n",
        "\n",
        "# Print the data type of the converted array\n",
        "print(\"Data type:\", arr_float32.dtype)\n"
      ],
      "metadata": {
        "colab": {
          "base_uri": "https://localhost:8080/"
        },
        "id": "awxvCtIyROs3",
        "outputId": "541ba1de-5bce-4cf7-bdf5-c0b19f53b87b"
      },
      "execution_count": 4,
      "outputs": [
        {
          "output_type": "stream",
          "name": "stdout",
          "text": [
            "Converted array: [1. 2. 3. 4. 5.]\n",
            "Data type: float32\n"
          ]
        }
      ]
    },
    {
      "cell_type": "markdown",
      "source": [
        "Q.5  Given a NumPy array 'arr' with float64 data type, convert it to float32 to reduce decimal precision."
      ],
      "metadata": {
        "id": "OFxYvhK2RZaz"
      }
    },
    {
      "cell_type": "code",
      "source": [
        "import numpy as np\n",
        "\n",
        "# Example NumPy array with float64 data type\n",
        "arr = np.array([1.1, 2.2, 3.3, 4.4, 5.5], dtype=np.float64)\n",
        "\n",
        "# Convert the array to float32 data type\n",
        "arr_float32 = arr.astype(np.float32)\n",
        "\n",
        "# Print the converted array\n",
        "print(\"Converted array:\", arr_float32)\n",
        "\n",
        "# Print the data type of the converted array\n",
        "print(\"Data type:\", arr_float32.dtype)\n"
      ],
      "metadata": {
        "colab": {
          "base_uri": "https://localhost:8080/"
        },
        "id": "i3jo37uyRSTh",
        "outputId": "7be1ca1e-2e4e-4591-90e4-5759f0d4eac9"
      },
      "execution_count": 5,
      "outputs": [
        {
          "output_type": "stream",
          "name": "stdout",
          "text": [
            "Converted array: [1.1 2.2 3.3 4.4 5.5]\n",
            "Data type: float32\n"
          ]
        }
      ]
    },
    {
      "cell_type": "markdown",
      "source": [
        "Q.6 . Write a function array_attributes that takes a NumPy array as input and returns its shape, size, and data\n",
        "type."
      ],
      "metadata": {
        "id": "82rQAHYLRkrq"
      }
    },
    {
      "cell_type": "code",
      "source": [
        "import numpy as np\n",
        "\n",
        "def array_attributes(arr):\n",
        "    \"\"\"\n",
        "    Function to return the shape, size, and data type of a NumPy array.\n",
        "\n",
        "    Parameters:\n",
        "    arr (numpy.ndarray): Input NumPy array\n",
        "\n",
        "    Returns:\n",
        "    tuple: A tuple containing the shape, size, and data type of the array\n",
        "    \"\"\"\n",
        "    shape = arr.shape\n",
        "    size = arr.size\n",
        "    dtype = arr.dtype\n",
        "\n",
        "    return shape, size, dtype\n",
        "\n",
        "# Example usage\n",
        "arr = np.array([1.1, 2.2, 3.3, 4.4, 5.5])\n",
        "attributes = array_attributes(arr)\n",
        "print(\"Shape:\", attributes[0])\n",
        "print(\"Size:\", attributes[1])\n",
        "print(\"Data type:\", attributes[2])\n"
      ],
      "metadata": {
        "colab": {
          "base_uri": "https://localhost:8080/"
        },
        "id": "7IzdJ7p2RqDq",
        "outputId": "30bda0a8-42b2-4f5c-cc32-b3d067f30315"
      },
      "execution_count": 6,
      "outputs": [
        {
          "output_type": "stream",
          "name": "stdout",
          "text": [
            "Shape: (5,)\n",
            "Size: 5\n",
            "Data type: float64\n"
          ]
        }
      ]
    },
    {
      "cell_type": "markdown",
      "source": [
        "Q.7.  Create a function array_dimension that takes a NumPy array as input and returns its dimensionality"
      ],
      "metadata": {
        "id": "zh2LcaYgRtrA"
      }
    },
    {
      "cell_type": "code",
      "source": [
        "import numpy as np\n",
        "\n",
        "def array_dimension(arr):\n",
        "    \"\"\"\n",
        "    Function to return the dimensionality of a NumPy array.\n",
        "\n",
        "    Parameters:\n",
        "    arr (numpy.ndarray): Input NumPy array\n",
        "\n",
        "    Returns:\n",
        "    int: The dimensionality of the array\n",
        "    \"\"\"\n",
        "    return arr.ndim\n",
        "\n",
        "# Example usage\n",
        "arr = np.array([[1, 2, 3], [4, 5, 6]])\n",
        "dimension = array_dimension(arr)\n",
        "print(\"Dimensionality:\", dimension)\n"
      ],
      "metadata": {
        "colab": {
          "base_uri": "https://localhost:8080/"
        },
        "id": "uIYh_O8uR20s",
        "outputId": "f26ea2b8-3ffd-428e-9943-8f66be339def"
      },
      "execution_count": 7,
      "outputs": [
        {
          "output_type": "stream",
          "name": "stdout",
          "text": [
            "Dimensionality: 2\n"
          ]
        }
      ]
    },
    {
      "cell_type": "markdown",
      "source": [
        "Q.8  Design a function item_size_info that takes a NumPy array as input and returns the item size and the total\n",
        "size in bytes."
      ],
      "metadata": {
        "id": "2WQPPnByR72d"
      }
    },
    {
      "cell_type": "code",
      "source": [
        "import numpy as np\n",
        "\n",
        "def item_size_info(arr):\n",
        "    \"\"\"\n",
        "    Function to return the item size and the total size in bytes of a NumPy array.\n",
        "\n",
        "    Parameters:\n",
        "    arr (numpy.ndarray): Input NumPy array\n",
        "\n",
        "    Returns:\n",
        "    tuple: A tuple containing the item size and the total size in bytes\n",
        "    \"\"\"\n",
        "    item_size = arr.itemsize\n",
        "    total_size = arr.nbytes\n",
        "\n",
        "    return item_size, total_size\n",
        "\n",
        "# Example usage\n",
        "arr = np.array([1, 2, 3, 4, 5])\n",
        "size_info = item_size_info(arr)\n",
        "print(\"Item size:\", size_info[0], \"bytes\")\n",
        "print(\"Total size:\", size_info[1], \"bytes\")\n"
      ],
      "metadata": {
        "colab": {
          "base_uri": "https://localhost:8080/"
        },
        "id": "A7q8JsfKR-Mf",
        "outputId": "e76f11a0-f851-4fa9-eb94-07e1ebae8963"
      },
      "execution_count": 8,
      "outputs": [
        {
          "output_type": "stream",
          "name": "stdout",
          "text": [
            "Item size: 8 bytes\n",
            "Total size: 40 bytes\n"
          ]
        }
      ]
    },
    {
      "cell_type": "markdown",
      "source": [
        "Q. 9  Create a function array_strides that takes a NumPy array as input and returns the strides of the array."
      ],
      "metadata": {
        "id": "an1n3Db7SDHs"
      }
    },
    {
      "cell_type": "code",
      "source": [
        "import numpy as np\n",
        "\n",
        "def array_strides(arr):\n",
        "    \"\"\"\n",
        "    Function to return the strides of a NumPy array.\n",
        "\n",
        "    Parameters:\n",
        "    arr (numpy.ndarray): Input NumPy array\n",
        "\n",
        "    Returns:\n",
        "    tuple: A tuple containing the strides of the array\n",
        "    \"\"\"\n",
        "    return arr.strides\n",
        "\n",
        "# Example usage\n",
        "arr = np.array([[1, 2, 3], [4, 5, 6]])\n",
        "strides = array_strides(arr)\n",
        "print(\"Strides:\", strides)\n"
      ],
      "metadata": {
        "colab": {
          "base_uri": "https://localhost:8080/"
        },
        "id": "irPdqfoLSIR_",
        "outputId": "737c9d8c-0b72-465e-e0cf-85604e399ce7"
      },
      "execution_count": 9,
      "outputs": [
        {
          "output_type": "stream",
          "name": "stdout",
          "text": [
            "Strides: (24, 8)\n"
          ]
        }
      ]
    },
    {
      "cell_type": "markdown",
      "source": [
        "Q.10 Design a function shape_stride_relationship that takes a NumPy array as input and returns the shape\n",
        "and strides of the array."
      ],
      "metadata": {
        "id": "tm5h1NRoSLgi"
      }
    },
    {
      "cell_type": "code",
      "source": [
        "import numpy as np\n",
        "\n",
        "def shape_stride_relationship(arr):\n",
        "    \"\"\"\n",
        "    Function to return the shape and strides of a NumPy array.\n",
        "\n",
        "    Parameters:\n",
        "    arr (numpy.ndarray): Input NumPy array\n",
        "\n",
        "    Returns:\n",
        "    tuple: A tuple containing the shape and strides of the array\n",
        "    \"\"\"\n",
        "    shape = arr.shape\n",
        "    strides = arr.strides\n",
        "\n",
        "    return shape, strides\n",
        "\n",
        "# Example usage\n",
        "arr = np.array([[1, 2, 3], [4, 5, 6]])\n",
        "shape_strides = shape_stride_relationship(arr)\n",
        "print(\"Shape:\", shape_strides[0])\n",
        "print(\"Strides:\", shape_strides[1])\n"
      ],
      "metadata": {
        "colab": {
          "base_uri": "https://localhost:8080/"
        },
        "id": "s2bljujuSRb-",
        "outputId": "3a41e6a4-b42d-4025-a78e-ac02b19fa1c6"
      },
      "execution_count": 10,
      "outputs": [
        {
          "output_type": "stream",
          "name": "stdout",
          "text": [
            "Shape: (2, 3)\n",
            "Strides: (24, 8)\n"
          ]
        }
      ]
    },
    {
      "cell_type": "markdown",
      "source": [
        "Q.11  Create a function `create_zeros_array` that takes an integer `n` as input and returns a NumPy array of\n",
        "zeros with `n` elements."
      ],
      "metadata": {
        "id": "nYNjvsnlSWL3"
      }
    },
    {
      "cell_type": "code",
      "source": [
        "import numpy as np\n",
        "\n",
        "def create_zeros_array(n):\n",
        "    \"\"\"\n",
        "    Function to create a NumPy array of zeros with n elements.\n",
        "\n",
        "    Parameters:\n",
        "    n (int): Number of elements in the array\n",
        "\n",
        "    Returns:\n",
        "    numpy.ndarray: A NumPy array of zeros with n elements\n",
        "    \"\"\"\n",
        "    return np.zeros(n)\n",
        "\n",
        "# Example usage\n",
        "n = 5\n",
        "zeros_array = create_zeros_array(n)\n",
        "print(\"Array of zeros:\", zeros_array)\n"
      ],
      "metadata": {
        "colab": {
          "base_uri": "https://localhost:8080/"
        },
        "id": "GSL9dBCTSZu7",
        "outputId": "ff9a5e62-3a7e-4fe5-afba-ebf7fd33d9d1"
      },
      "execution_count": 11,
      "outputs": [
        {
          "output_type": "stream",
          "name": "stdout",
          "text": [
            "Array of zeros: [0. 0. 0. 0. 0.]\n"
          ]
        }
      ]
    },
    {
      "cell_type": "markdown",
      "source": [
        "Q.12  Write a function `create_ones_matrix` that takes integers `rows` and `cols` as inputs and generates a 2D\n",
        "NumPy array filled with ones of size `rows x cols`."
      ],
      "metadata": {
        "id": "E9kBBa09Sd1k"
      }
    },
    {
      "cell_type": "code",
      "source": [
        "import numpy as np\n",
        "\n",
        "def create_ones_matrix(rows, cols):\n",
        "    \"\"\"\n",
        "    Function to create a 2D NumPy array filled with ones of size rows x cols.\n",
        "\n",
        "    Parameters:\n",
        "    rows (int): Number of rows in the array\n",
        "    cols (int): Number of columns in the array\n",
        "\n",
        "    Returns:\n",
        "    numpy.ndarray: A 2D NumPy array filled with ones of size rows x cols\n",
        "    \"\"\"\n",
        "    return np.ones((rows, cols))\n",
        "\n",
        "# Example usage\n",
        "rows = 3\n",
        "cols = 4\n",
        "ones_matrix = create_ones_matrix(rows, cols)\n",
        "print(\"Matrix of ones:\\n\", ones_matrix)\n"
      ],
      "metadata": {
        "colab": {
          "base_uri": "https://localhost:8080/"
        },
        "id": "KWxuki2_Sghl",
        "outputId": "a1b87f27-cef8-45f9-ac58-56e5fce37477"
      },
      "execution_count": 12,
      "outputs": [
        {
          "output_type": "stream",
          "name": "stdout",
          "text": [
            "Matrix of ones:\n",
            " [[1. 1. 1. 1.]\n",
            " [1. 1. 1. 1.]\n",
            " [1. 1. 1. 1.]]\n"
          ]
        }
      ]
    },
    {
      "cell_type": "markdown",
      "source": [
        "Q. 13  Write a function `generate_range_array` that takes three integers start, stop, and step as arguments and\n",
        "creates a NumPy array with a range starting from `start`, ending at stop (exclusive), and with the specified\n",
        "`step`."
      ],
      "metadata": {
        "id": "5IzJ91LDSqbO"
      }
    },
    {
      "cell_type": "code",
      "source": [
        "import numpy as np\n",
        "\n",
        "def generate_range_array(start, stop, step):\n",
        "    \"\"\"\n",
        "    Function to create a NumPy array with a range starting from start, ending at stop (exclusive),\n",
        "    and with the specified step.\n",
        "\n",
        "    Parameters:\n",
        "    start (int): The starting value of the range\n",
        "    stop (int): The end value of the range (exclusive)\n",
        "    step (int): The step size between consecutive values\n",
        "\n",
        "    Returns:\n",
        "    numpy.ndarray: A NumPy array with the specified range\n",
        "    \"\"\"\n",
        "    return np.arange(start, stop, step)\n",
        "\n",
        "# Example usage\n",
        "start = 0\n",
        "stop = 10\n",
        "step = 2\n",
        "range_array = generate_range_array(start, stop, step)\n",
        "print(\"Range array:\", range_array)\n"
      ],
      "metadata": {
        "colab": {
          "base_uri": "https://localhost:8080/"
        },
        "id": "0QTQHKOaSuF9",
        "outputId": "405aaa3f-ca9d-4478-8793-3909559e145e"
      },
      "execution_count": 13,
      "outputs": [
        {
          "output_type": "stream",
          "name": "stdout",
          "text": [
            "Range array: [0 2 4 6 8]\n"
          ]
        }
      ]
    },
    {
      "cell_type": "markdown",
      "source": [
        "Q.14  Design a function `generate_linear_space` that takes two floats `start`, `stop`, and an integer `num` as\n",
        "arguments and generates a NumPy array with num equally spaced values between `start` and `stop`\n",
        "(inclusive).\n"
      ],
      "metadata": {
        "id": "s6yYvjiESwFE"
      }
    },
    {
      "cell_type": "code",
      "source": [
        "import numpy as np\n",
        "\n",
        "def generate_linear_space(start, stop, num):\n",
        "    \"\"\"\n",
        "    Function to create a NumPy array with num equally spaced values between start and stop (inclusive).\n",
        "\n",
        "    Parameters:\n",
        "    start (float): The starting value of the range\n",
        "    stop (float): The end value of the range\n",
        "    num (int): The number of equally spaced values to generate\n",
        "\n",
        "    Returns:\n",
        "    numpy.ndarray: A NumPy array with the specified range\n",
        "    \"\"\"\n",
        "    return np.linspace(start, stop, num)\n",
        "\n",
        "# Example usage\n",
        "start = 0.0\n",
        "stop = 1.0\n",
        "num = 5\n",
        "linear_space_array = generate_linear_space(start, stop, num)\n",
        "print(\"Linear space array:\", linear_space_array)\n"
      ],
      "metadata": {
        "colab": {
          "base_uri": "https://localhost:8080/"
        },
        "id": "yRaluLjqS1Us",
        "outputId": "bbda54ba-f92d-40b5-c029-20307fc73d40"
      },
      "execution_count": 14,
      "outputs": [
        {
          "output_type": "stream",
          "name": "stdout",
          "text": [
            "Linear space array: [0.   0.25 0.5  0.75 1.  ]\n"
          ]
        }
      ]
    },
    {
      "cell_type": "markdown",
      "source": [
        "Q.15  Create a function `create_identity_matrix` that takes an integer `n` as input and generates a square\n",
        "identity matrix of size `n x n` using `numpy.eye`."
      ],
      "metadata": {
        "id": "FkgyrRWiS5jv"
      }
    },
    {
      "cell_type": "code",
      "source": [
        "import numpy as np\n",
        "\n",
        "def create_identity_matrix(n):\n",
        "    \"\"\"\n",
        "    Function to create a square identity matrix of size n x n.\n",
        "\n",
        "    Parameters:\n",
        "    n (int): The size of the identity matrix\n",
        "\n",
        "    Returns:\n",
        "    numpy.ndarray: A square identity matrix of size n x n\n",
        "    \"\"\"\n",
        "    return np.eye(n)\n",
        "\n",
        "# Example usage\n",
        "n = 4\n",
        "identity_matrix = create_identity_matrix(n)\n",
        "print(\"Identity matrix:\\n\", identity_matrix)\n"
      ],
      "metadata": {
        "colab": {
          "base_uri": "https://localhost:8080/"
        },
        "id": "AJH2zEo8TB9L",
        "outputId": "edb93397-50dd-4892-e08a-7f312f5d5c37"
      },
      "execution_count": 16,
      "outputs": [
        {
          "output_type": "stream",
          "name": "stdout",
          "text": [
            "Identity matrix:\n",
            " [[1. 0. 0. 0.]\n",
            " [0. 1. 0. 0.]\n",
            " [0. 0. 1. 0.]\n",
            " [0. 0. 0. 1.]]\n"
          ]
        }
      ]
    },
    {
      "cell_type": "markdown",
      "source": [
        "Q.16  Write a function that takes a Python list and converts it into a NumPy array.\n"
      ],
      "metadata": {
        "id": "V3yvGkHBWBXj"
      }
    },
    {
      "cell_type": "code",
      "source": [
        "import numpy as np\n",
        "\n",
        "def list_to_numpy_array(py_list):\n",
        "    \"\"\"\n",
        "    Function to convert a Python list into a NumPy array.\n",
        "\n",
        "    Parameters:\n",
        "    py_list (list): Input Python list\n",
        "\n",
        "    Returns:\n",
        "    numpy.ndarray: A NumPy array converted from the input list\n",
        "    \"\"\"\n",
        "    return np.array(py_list)\n",
        "\n",
        "# Example usage\n",
        "py_list = [1, 2, 3, 4, 5]\n",
        "numpy_array = list_to_numpy_array(py_list)\n",
        "print(\"NumPy array:\", numpy_array)\n",
        "print(\"Data type:\", type(numpy_array))\n"
      ],
      "metadata": {
        "colab": {
          "base_uri": "https://localhost:8080/"
        },
        "id": "50sJF3NpWVBx",
        "outputId": "066cc5e7-fd9f-471c-caa9-4a2b340fea88"
      },
      "execution_count": 17,
      "outputs": [
        {
          "output_type": "stream",
          "name": "stdout",
          "text": [
            "NumPy array: [1 2 3 4 5]\n",
            "Data type: <class 'numpy.ndarray'>\n"
          ]
        }
      ]
    },
    {
      "cell_type": "markdown",
      "source": [
        "Q. 17 Create a NumPy array and demonstrate the use of `numpy.view` to create a new array object with the\n",
        "same data."
      ],
      "metadata": {
        "id": "UzOxdqpEW5Jg"
      }
    },
    {
      "cell_type": "code",
      "source": [
        "import numpy as np\n",
        "\n",
        "# Create a NumPy array\n",
        "original_array = np.array([1, 2, 3, 4, 5])\n",
        "\n",
        "# Create a new array object with the same data using numpy.view\n",
        "view_array = original_array.view()\n",
        "\n",
        "# Print the original array and the view array\n",
        "print(\"Original array:\", original_array)\n",
        "print(\"View array:\", view_array)\n",
        "\n",
        "# Modify the view array\n",
        "view_array[0] = 10\n",
        "\n",
        "# Print the arrays after modification\n",
        "print(\"Original array after modification:\", original_array)\n",
        "print(\"View array after modification:\", view_array)\n"
      ],
      "metadata": {
        "colab": {
          "base_uri": "https://localhost:8080/"
        },
        "id": "RN4Gl5FLW_qu",
        "outputId": "c5faaa16-cdb8-4a57-a3ff-fbf87357d9f5"
      },
      "execution_count": 18,
      "outputs": [
        {
          "output_type": "stream",
          "name": "stdout",
          "text": [
            "Original array: [1 2 3 4 5]\n",
            "View array: [1 2 3 4 5]\n",
            "Original array after modification: [10  2  3  4  5]\n",
            "View array after modification: [10  2  3  4  5]\n"
          ]
        }
      ]
    },
    {
      "cell_type": "markdown",
      "source": [
        "Q.18  Write a function that takes two NumPy arrays and concatenates them along a specified axis"
      ],
      "metadata": {
        "id": "jHlgtPHQXgDs"
      }
    },
    {
      "cell_type": "code",
      "source": [
        "import numpy as np\n",
        "\n",
        "def concatenate_arrays(arr1, arr2, axis=0):\n",
        "    \"\"\"\n",
        "    Function to concatenate two NumPy arrays along a specified axis.\n",
        "\n",
        "    Parameters:\n",
        "    arr1 (numpy.ndarray): The first input array\n",
        "    arr2 (numpy.ndarray): The second input array\n",
        "    axis (int): The axis along which the arrays will be concatenated (default is 0)\n",
        "\n",
        "    Returns:\n",
        "    numpy.ndarray: The concatenated array\n",
        "    \"\"\"\n",
        "    return np.concatenate((arr1, arr2), axis=axis)\n",
        "\n",
        "# Example usage\n",
        "arr1 = np.array([[1, 2], [3, 4]])\n",
        "arr2 = np.array([[5, 6], [7, 8]])\n",
        "\n",
        "# Concatenate along axis 0 (rows)\n",
        "concatenated_array_0 = concatenate_arrays(arr1, arr2, axis=0)\n",
        "print(\"Concatenated along axis 0:\\n\", concatenated_array_0)\n",
        "\n",
        "# Concatenate along axis 1 (columns)\n",
        "concatenated_array_1 = concatenate_arrays(arr1, arr2, axis=1)\n",
        "print(\"Concatenated along axis 1:\\n\", concatenated_array_1)\n"
      ],
      "metadata": {
        "colab": {
          "base_uri": "https://localhost:8080/"
        },
        "id": "DMLNQwB7XjsB",
        "outputId": "12462550-5ccb-4f5b-dc63-b0097abca159"
      },
      "execution_count": 19,
      "outputs": [
        {
          "output_type": "stream",
          "name": "stdout",
          "text": [
            "Concatenated along axis 0:\n",
            " [[1 2]\n",
            " [3 4]\n",
            " [5 6]\n",
            " [7 8]]\n",
            "Concatenated along axis 1:\n",
            " [[1 2 5 6]\n",
            " [3 4 7 8]]\n"
          ]
        }
      ]
    },
    {
      "cell_type": "markdown",
      "source": [
        "Q. 19 Create two NumPy arrays with different shapes and concatenate them horizontally using `numpy.concatenate`."
      ],
      "metadata": {
        "id": "aMFks87kZswS"
      }
    },
    {
      "cell_type": "code",
      "source": [
        "import numpy as np\n",
        "\n",
        "# Create two NumPy arrays with different shapes\n",
        "arr1 = np.array([[1, 2, 3], [4, 5, 6]])\n",
        "arr2 = np.array([[7, 8], [9, 10]])\n",
        "\n",
        "# Adjust the shape of arr2 to match the number of rows in arr1 for horizontal concatenation\n",
        "arr2 = np.hstack((arr2, np.zeros((arr2.shape[0], arr1.shape[1] - arr2.shape[1]))))\n",
        "\n",
        "# Concatenate the arrays horizontally (along axis 1)\n",
        "concatenated_array = np.concatenate((arr1, arr2), axis=1)\n",
        "\n",
        "print(\"Array 1:\\n\", arr1)\n",
        "print(\"Array 2:\\n\", arr2)\n",
        "print(\"Concatenated array:\\n\", concatenated_array)\n"
      ],
      "metadata": {
        "id": "BmilnXINZ1k7",
        "outputId": "33d23b9a-b66a-449d-fffe-30a99eea4cd6",
        "colab": {
          "base_uri": "https://localhost:8080/"
        }
      },
      "execution_count": 20,
      "outputs": [
        {
          "output_type": "stream",
          "name": "stdout",
          "text": [
            "Array 1:\n",
            " [[1 2 3]\n",
            " [4 5 6]]\n",
            "Array 2:\n",
            " [[ 7.  8.  0.]\n",
            " [ 9. 10.  0.]]\n",
            "Concatenated array:\n",
            " [[ 1.  2.  3.  7.  8.  0.]\n",
            " [ 4.  5.  6.  9. 10.  0.]]\n"
          ]
        }
      ]
    },
    {
      "cell_type": "markdown",
      "source": [
        "Q.20 Write a function that vertically stacks multiple NumPy arrays given as a list"
      ],
      "metadata": {
        "id": "_j22AHROZ5tZ"
      }
    },
    {
      "cell_type": "code",
      "source": [
        "import numpy as np\n",
        "\n",
        "def vertical_stack(arrays):\n",
        "    \"\"\"\n",
        "    Function to vertically stack multiple NumPy arrays given as a list.\n",
        "\n",
        "    Parameters:\n",
        "    arrays (list of numpy.ndarray): List of NumPy arrays to be stacked\n",
        "\n",
        "    Returns:\n",
        "    numpy.ndarray: A single NumPy array obtained by stacking the input arrays vertically\n",
        "    \"\"\"\n",
        "    return np.vstack(arrays)\n",
        "\n",
        "# Example usage\n",
        "arr1 = np.array([[1, 2], [3, 4]])\n",
        "arr2 = np.array([[5, 6], [7, 8]])\n",
        "arr3 = np.array([[9, 10], [11, 12]])\n",
        "\n",
        "arrays = [arr1, arr2, arr3]\n",
        "stacked_array = vertical_stack(arrays)\n",
        "print(\"Stacked array:\\n\", stacked_array)\n"
      ],
      "metadata": {
        "id": "Vt0vnPxvaByb",
        "outputId": "394feced-67c2-42df-b906-7dfd8e586944",
        "colab": {
          "base_uri": "https://localhost:8080/"
        }
      },
      "execution_count": 21,
      "outputs": [
        {
          "output_type": "stream",
          "name": "stdout",
          "text": [
            "Stacked array:\n",
            " [[ 1  2]\n",
            " [ 3  4]\n",
            " [ 5  6]\n",
            " [ 7  8]\n",
            " [ 9 10]\n",
            " [11 12]]\n"
          ]
        }
      ]
    },
    {
      "cell_type": "markdown",
      "source": [
        "Q. 21  Write a Python function using NumPy to create an array of integers within a specified range (inclusive)\n",
        "with a given step size"
      ],
      "metadata": {
        "id": "tQUyiXNjaIxy"
      }
    },
    {
      "cell_type": "code",
      "source": [
        "import numpy as np\n",
        "\n",
        "def create_range_array(start, stop, step):\n",
        "    \"\"\"\n",
        "    Function to create a NumPy array of integers within a specified range (inclusive) with a given step size.\n",
        "\n",
        "    Parameters:\n",
        "    start (int): The starting value of the range\n",
        "    stop (int): The end value of the range (inclusive)\n",
        "    step (int): The step size between consecutive values\n",
        "\n",
        "    Returns:\n",
        "    numpy.ndarray: A NumPy array with the specified range\n",
        "    \"\"\"\n",
        "    return np.arange(start, stop + 1, step)\n",
        "\n",
        "# Example usage\n",
        "start = 0\n",
        "stop = 10\n",
        "step = 2\n",
        "range_array = create_range_array(start, stop, step)\n",
        "print(\"Range array:\", range_array)\n"
      ],
      "metadata": {
        "id": "n4-_B6lPaNzQ",
        "outputId": "5495dcad-7cff-4ec1-a2cc-22124bade8a5",
        "colab": {
          "base_uri": "https://localhost:8080/"
        }
      },
      "execution_count": 22,
      "outputs": [
        {
          "output_type": "stream",
          "name": "stdout",
          "text": [
            "Range array: [ 0  2  4  6  8 10]\n"
          ]
        }
      ]
    },
    {
      "cell_type": "markdown",
      "source": [
        "Q. 22  Write a Python function using NumPy to generate an array of 10 equally spaced values between 0 and 1\n",
        "(inclusive)."
      ],
      "metadata": {
        "id": "SgQxbvDeaSwp"
      }
    },
    {
      "cell_type": "code",
      "source": [
        "import numpy as np\n",
        "\n",
        "def generate_equally_spaced_values():\n",
        "    \"\"\"\n",
        "    Function to generate a NumPy array of 10 equally spaced values between 0 and 1 (inclusive).\n",
        "\n",
        "    Returns:\n",
        "    numpy.ndarray: A NumPy array with 10 equally spaced values between 0 and 1\n",
        "    \"\"\"\n",
        "    return np.linspace(0, 1, 10)\n",
        "\n",
        "# Example usage\n",
        "equally_spaced_values = generate_equally_spaced_values()\n",
        "print(\"Equally spaced values:\", equally_spaced_values)\n"
      ],
      "metadata": {
        "id": "LXqZK3_yaXL_",
        "outputId": "0c178f96-974e-4eb4-a845-c9ebd40eacd4",
        "colab": {
          "base_uri": "https://localhost:8080/"
        }
      },
      "execution_count": 23,
      "outputs": [
        {
          "output_type": "stream",
          "name": "stdout",
          "text": [
            "Equally spaced values: [0.         0.11111111 0.22222222 0.33333333 0.44444444 0.55555556\n",
            " 0.66666667 0.77777778 0.88888889 1.        ]\n"
          ]
        }
      ]
    },
    {
      "cell_type": "markdown",
      "source": [
        "Q. 23  Write a Python function using NumPy to create an array of 5 logarithmically spaced values between 1 and\n",
        "1000 (inclusive)."
      ],
      "metadata": {
        "id": "paJ5ripvabAo"
      }
    },
    {
      "cell_type": "code",
      "source": [
        "import numpy as np\n",
        "\n",
        "def generate_logarithmic_values():\n",
        "    \"\"\"\n",
        "    Function to generate a NumPy array of 5 logarithmically spaced values between 1 and 1000 (inclusive).\n",
        "\n",
        "    Returns:\n",
        "    numpy.ndarray: A NumPy array with 5 logarithmically spaced values between 1 and 1000\n",
        "    \"\"\"\n",
        "    return np.logspace(0, 3, 5)\n",
        "\n",
        "# Example usage\n",
        "logarithmic_values = generate_logarithmic_values()\n",
        "print(\"Logarithmically spaced values:\", logarithmic_values)\n"
      ],
      "metadata": {
        "id": "KTV41t1madzz",
        "outputId": "d8a8c249-ac62-4a40-abe7-d20260a8b200",
        "colab": {
          "base_uri": "https://localhost:8080/"
        }
      },
      "execution_count": 24,
      "outputs": [
        {
          "output_type": "stream",
          "name": "stdout",
          "text": [
            "Logarithmically spaced values: [   1.            5.62341325   31.6227766   177.827941   1000.        ]\n"
          ]
        }
      ]
    },
    {
      "cell_type": "markdown",
      "source": [
        "Q. 24 Create a Pandas DataFrame using a NumPy array that contains 5 rows and 3 columns, where the values\n",
        "are random integers between 1 and 100."
      ],
      "metadata": {
        "id": "mSeKNyUOai27"
      }
    },
    {
      "cell_type": "code",
      "source": [
        "import numpy as np\n",
        "import pandas as pd\n",
        "\n",
        "# Create a NumPy array with random integers between 1 and 100\n",
        "np.random.seed(0)  # For reproducibility\n",
        "data = np.random.randint(1, 101, size=(5, 3))\n",
        "\n",
        "# Create a Pandas DataFrame from the NumPy array\n",
        "df = pd.DataFrame(data, columns=['Column1', 'Column2', 'Column3'])\n",
        "\n",
        "# Print the DataFrame\n",
        "print(df)\n"
      ],
      "metadata": {
        "id": "kJbtzv_uamKJ",
        "outputId": "7c6b0c3c-6907-4ad6-98cb-c2d53eb5081b",
        "colab": {
          "base_uri": "https://localhost:8080/"
        }
      },
      "execution_count": 25,
      "outputs": [
        {
          "output_type": "stream",
          "name": "stdout",
          "text": [
            "   Column1  Column2  Column3\n",
            "0       45       48       65\n",
            "1       68       68       10\n",
            "2       84       22       37\n",
            "3       88       71       89\n",
            "4       89       13       59\n"
          ]
        }
      ]
    },
    {
      "cell_type": "markdown",
      "source": [
        "Q. 25 Write a function that takes a Pandas DataFrame and replaces all negative values in a specific column\n",
        "with zeros. Use NumPy operations within the Pandas DataFrame."
      ],
      "metadata": {
        "id": "kEwVJGSDa3Ql"
      }
    },
    {
      "cell_type": "code",
      "source": [
        "import numpy as np\n",
        "import pandas as pd\n",
        "\n",
        "def replace_negatives_with_zeros(df, column_name):\n",
        "    \"\"\"\n",
        "    Function to replace all negative values in a specific column of a Pandas DataFrame with zeros.\n",
        "\n",
        "    Parameters:\n",
        "    df (pandas.DataFrame): Input DataFrame\n",
        "    column_name (str): The name of the column to process\n",
        "\n",
        "    Returns:\n",
        "    pandas.DataFrame: DataFrame with negative values replaced by zeros in the specified column\n",
        "    \"\"\"\n",
        "    df[column_name] = np.where(df[column_name] < 0, 0, df[column_name])\n",
        "    return df\n",
        "\n",
        "# Example usage\n",
        "data = {\n",
        "    'A': [1, -2, 3, -4, 5],\n",
        "    'B': [-1, 2, -3, 4, -5],\n",
        "    'C': [1, 2, 3, 4, 5]\n",
        "}\n",
        "df = pd.DataFrame(data)\n",
        "print(\"Original DataFrame:\\n\", df)\n",
        "\n",
        "df = replace_negatives_with_zeros(df, 'A')\n",
        "print(\"\\nDataFrame after replacing negatives in column 'A':\\n\", df)\n"
      ],
      "metadata": {
        "id": "9rA-rVENbADW",
        "outputId": "abea9174-e2da-49dc-cbe6-1d30a1d48760",
        "colab": {
          "base_uri": "https://localhost:8080/"
        }
      },
      "execution_count": 27,
      "outputs": [
        {
          "output_type": "stream",
          "name": "stdout",
          "text": [
            "Original DataFrame:\n",
            "    A  B  C\n",
            "0  1 -1  1\n",
            "1 -2  2  2\n",
            "2  3 -3  3\n",
            "3 -4  4  4\n",
            "4  5 -5  5\n",
            "\n",
            "DataFrame after replacing negatives in column 'A':\n",
            "    A  B  C\n",
            "0  1 -1  1\n",
            "1  0  2  2\n",
            "2  3 -3  3\n",
            "3  0  4  4\n",
            "4  5 -5  5\n"
          ]
        }
      ]
    },
    {
      "cell_type": "markdown",
      "source": [
        "Q. 26 Access the 3rd element from the given NumPy array. arr = np.array([10, 20, 30, 40, 50])"
      ],
      "metadata": {
        "id": "19_u8f0CbNYh"
      }
    },
    {
      "cell_type": "code",
      "source": [
        "import numpy as np\n",
        "\n",
        "# Given array\n",
        "arr = np.array([10, 20, 30, 40, 50])\n",
        "\n",
        "# Access the 3rd element (index 2, since indexing starts from 0)\n",
        "third_element = arr[2]\n",
        "\n",
        "print(\"The 3rd element is:\", third_element)\n"
      ],
      "metadata": {
        "id": "T4U2syGZbQ9_",
        "outputId": "f811bc3d-16d3-4c9a-f5b7-6e9fa8ae778e",
        "colab": {
          "base_uri": "https://localhost:8080/"
        }
      },
      "execution_count": 28,
      "outputs": [
        {
          "output_type": "stream",
          "name": "stdout",
          "text": [
            "The 3rd element is: 30\n"
          ]
        }
      ]
    },
    {
      "cell_type": "markdown",
      "source": [
        "Q.27  Retrieve the element at index (1, 2) from the 2D NumPy array. arr_2d = np.array([[1, 2, 3],\n",
        "                   [4, 5, 6],\n",
        "                   [7, 8, 9]])"
      ],
      "metadata": {
        "id": "46j0pl1-be-3"
      }
    },
    {
      "cell_type": "code",
      "source": [
        "import numpy as np\n",
        "\n",
        "# Given 2D array\n",
        "arr_2d = np.array([[1, 2, 3],\n",
        "                   [4, 5, 6],\n",
        "                   [7, 8, 9]])\n",
        "\n",
        "# Access the element at index (1, 2)\n",
        "element = arr_2d[1, 2]\n",
        "\n",
        "print(\"The element at index (1, 2) is:\", element)\n"
      ],
      "metadata": {
        "id": "NIOqDnD4bkw_",
        "outputId": "18d1270f-a666-4f83-9d8f-45231e21a8c4",
        "colab": {
          "base_uri": "https://localhost:8080/"
        }
      },
      "execution_count": 29,
      "outputs": [
        {
          "output_type": "stream",
          "name": "stdout",
          "text": [
            "The element at index (1, 2) is: 6\n"
          ]
        }
      ]
    },
    {
      "cell_type": "markdown",
      "source": [
        "Q. 28. Using boolean indexing, extract elements greater than 5 from the given NumPy array  arr = np.array([3, 8, 2, 10, 5, 7])\n",
        "\n"
      ],
      "metadata": {
        "id": "NwT53VD5b7KW"
      }
    },
    {
      "cell_type": "code",
      "source": [
        "import numpy as np\n",
        "\n",
        "arr = np.array([3, 8, 2, 10, 5, 7])\n",
        "result = arr[arr > 5]\n",
        "\n",
        "print(result)\n"
      ],
      "metadata": {
        "id": "ugBQH4_Db_R9",
        "outputId": "665b317e-da86-4253-9f75-a4b6dec98bf9",
        "colab": {
          "base_uri": "https://localhost:8080/"
        }
      },
      "execution_count": 30,
      "outputs": [
        {
          "output_type": "stream",
          "name": "stdout",
          "text": [
            "[ 8 10  7]\n"
          ]
        }
      ]
    },
    {
      "cell_type": "markdown",
      "source": [
        "Q. 29 Perform basic slicing to extract elements from index 2 to 5 (inclusive) from the given NumPy array.  arr = np.array([1, 2, 3, 4, 5, 6, 7, 8, 9])\n"
      ],
      "metadata": {
        "id": "YPjAmEz6cJp7"
      }
    },
    {
      "cell_type": "code",
      "source": [
        "import numpy as np\n",
        "\n",
        "arr = np.array([1, 2, 3, 4, 5, 6, 7, 8, 9])\n",
        "result = arr[2:6]\n",
        "\n",
        "print(result)\n"
      ],
      "metadata": {
        "id": "o4Mg5wXdcMpx",
        "outputId": "67945262-6147-418d-b093-fc712748bd77",
        "colab": {
          "base_uri": "https://localhost:8080/"
        }
      },
      "execution_count": 31,
      "outputs": [
        {
          "output_type": "stream",
          "name": "stdout",
          "text": [
            "[3 4 5 6]\n"
          ]
        }
      ]
    },
    {
      "cell_type": "markdown",
      "source": [
        "Q. 30 . Slice the 2D NumPy array to extract the sub-array `[[2, 3], [5, 6]]` from the given array."
      ],
      "metadata": {
        "id": "VRTdV-OTcb75"
      }
    },
    {
      "cell_type": "code",
      "source": [
        "import numpy as np\n",
        "\n",
        "arr = np.array([[1, 2, 3, 4],\n",
        "                [4, 5, 6, 7],\n",
        "                [7, 8, 9, 10]])\n",
        "\n",
        "# Extracting the sub-array\n",
        "sub_array = arr[0:2, 1:3]\n",
        "\n",
        "print(sub_array)\n"
      ],
      "metadata": {
        "id": "BgYYqJ_WcdcZ"
      },
      "execution_count": null,
      "outputs": []
    },
    {
      "cell_type": "markdown",
      "source": [
        "Q. 31 .Write a NumPy function to extract elements in specific order from a given 2D array based on indices\n",
        "provided in another array."
      ],
      "metadata": {
        "id": "JVPQicN-cxor"
      }
    },
    {
      "cell_type": "code",
      "source": [
        "import numpy as np\n",
        "\n",
        "def extract_elements(arr, indices):\n",
        "    \"\"\"\n",
        "    Extract elements from a 2D array based on provided indices.\n",
        "\n",
        "    Parameters:\n",
        "    arr (np.ndarray): The 2D array to extract elements from.\n",
        "    indices (np.ndarray): A 2D array of indices.\n",
        "\n",
        "    Returns:\n",
        "    np.ndarray: An array of extracted elements.\n",
        "    \"\"\"\n",
        "    return arr[indices[:, 0], indices[:, 1]]\n",
        "\n",
        "# Example usage\n",
        "arr = np.array([[1, 2, 3],\n",
        "                [4, 5, 6],\n",
        "                [7, 8, 9]])\n",
        "\n",
        "indices = np.array([[0, 1],\n",
        "                    [1, 2],\n",
        "                    [2, 0]])\n",
        "\n",
        "result = extract_elements(arr, indices)\n",
        "print(result)\n"
      ],
      "metadata": {
        "id": "N9-h4JToc1xY",
        "outputId": "ba35bab5-c69e-45ec-baf4-e6b4203b60f6",
        "colab": {
          "base_uri": "https://localhost:8080/"
        }
      },
      "execution_count": 32,
      "outputs": [
        {
          "output_type": "stream",
          "name": "stdout",
          "text": [
            "[2 6 7]\n"
          ]
        }
      ]
    },
    {
      "cell_type": "markdown",
      "source": [
        "Q. 32  Create a NumPy function that filters elements greater than a threshold from a given 1D array using\n",
        "boolean indexing."
      ],
      "metadata": {
        "id": "lDKbrGIHc8ic"
      }
    },
    {
      "cell_type": "code",
      "source": [
        "import numpy as np\n",
        "\n",
        "def filter_elements(arr, threshold):\n",
        "    \"\"\"\n",
        "    Filter elements greater than a specified threshold from a 1D array.\n",
        "\n",
        "    Parameters:\n",
        "    arr (np.ndarray): The 1D array to filter elements from.\n",
        "    threshold (float): The threshold value.\n",
        "\n",
        "    Returns:\n",
        "    np.ndarray: An array of elements greater than the threshold.\n",
        "    \"\"\"\n",
        "    return arr[arr > threshold]\n",
        "\n",
        "# Example usage\n",
        "arr = np.array([1, 4, 6, 8, 3, 7, 2])\n",
        "threshold = 5\n",
        "result = filter_elements(arr, threshold)\n",
        "print(result)\n"
      ],
      "metadata": {
        "id": "yEMgPxaJdBV1",
        "outputId": "9f7cfd01-957a-42e4-f8a0-61fa3f039fc7",
        "colab": {
          "base_uri": "https://localhost:8080/"
        }
      },
      "execution_count": 33,
      "outputs": [
        {
          "output_type": "stream",
          "name": "stdout",
          "text": [
            "[6 8 7]\n"
          ]
        }
      ]
    },
    {
      "cell_type": "markdown",
      "source": [
        "Q. 33 Develop a NumPy function that extracts specific elements from a 3D array using indices provided in three\n",
        "separate arrays for each dimension."
      ],
      "metadata": {
        "id": "V2pveLfidDiZ"
      }
    },
    {
      "cell_type": "code",
      "source": [
        "import numpy as np\n",
        "\n",
        "def extract_elements_3d(arr, x_indices, y_indices, z_indices):\n",
        "    \"\"\"\n",
        "    Extract specific elements from a 3D array using indices provided in three separate arrays.\n",
        "\n",
        "    Parameters:\n",
        "    arr (np.ndarray): The 3D array to extract elements from.\n",
        "    x_indices (np.ndarray): The array of indices for the first dimension.\n",
        "    y_indices (np.ndarray): The array of indices for the second dimension.\n",
        "    z_indices (np.ndarray): The array of indices for the third dimension.\n",
        "\n",
        "    Returns:\n",
        "    np.ndarray: An array of extracted elements.\n",
        "    \"\"\"\n",
        "    return arr[x_indices, y_indices, z_indices]\n",
        "\n",
        "# Example usage\n",
        "arr = np.array([[[ 1,  2,  3],\n",
        "                 [ 4,  5,  6],\n",
        "                 [ 7,  8,  9]],\n",
        "\n",
        "                [[10, 11, 12],\n",
        "                 [13, 14, 15],\n",
        "                 [16, 17, 18]],\n",
        "\n",
        "                [[19, 20, 21],\n",
        "                 [22, 23, 24],\n",
        "                 [25, 26, 27]]])\n",
        "\n",
        "x_indices = np.array([0, 1, 2])\n",
        "y_indices = np.array([1, 2, 0])\n",
        "z_indices = np.array([2, 1, 0])\n",
        "\n",
        "result = extract_elements_3d(arr, x_indices, y_indices, z_indices)\n",
        "print(result)\n"
      ],
      "metadata": {
        "id": "Ip0KEaSNdgK-",
        "outputId": "f894fdef-5601-4a80-b7bf-9d3af781013d",
        "colab": {
          "base_uri": "https://localhost:8080/"
        }
      },
      "execution_count": 34,
      "outputs": [
        {
          "output_type": "stream",
          "name": "stdout",
          "text": [
            "[ 6 17 19]\n"
          ]
        }
      ]
    },
    {
      "cell_type": "markdown",
      "source": [
        "Q. 34  Write a NumPy function that returns elements from an array where both two conditions are satisfied\n",
        "using boolean indexing."
      ],
      "metadata": {
        "id": "UQ4walejdmfq"
      }
    },
    {
      "cell_type": "code",
      "source": [
        "import numpy as np\n",
        "\n",
        "def filter_elements(arr, condition1, condition2):\n",
        "    \"\"\"\n",
        "    Filter elements from an array where both conditions are satisfied.\n",
        "\n",
        "    Parameters:\n",
        "    arr (np.ndarray): The array to filter elements from.\n",
        "    condition1 (np.ndarray): The first boolean condition.\n",
        "    condition2 (np.ndarray): The second boolean condition.\n",
        "\n",
        "    Returns:\n",
        "    np.ndarray: An array of elements where both conditions are satisfied.\n",
        "    \"\"\"\n",
        "    return arr[condition1 & condition2]\n",
        "\n",
        "# Example usage\n",
        "arr = np.array([1, 4, 6, 8, 3, 7, 2])\n",
        "condition1 = arr > 3\n",
        "condition2 = arr < 8\n",
        "\n",
        "result = filter_elements(arr, condition1, condition2)\n",
        "print(result)\n"
      ],
      "metadata": {
        "id": "jqj7feF4d1ew",
        "outputId": "43e50a50-7311-4b85-df16-36a6e27afa87",
        "colab": {
          "base_uri": "https://localhost:8080/"
        }
      },
      "execution_count": 35,
      "outputs": [
        {
          "output_type": "stream",
          "name": "stdout",
          "text": [
            "[4 6 7]\n"
          ]
        }
      ]
    },
    {
      "cell_type": "markdown",
      "source": [
        "Q. 34  Create a NumPy function that extracts elements from a 2D array using row and column indices provided\n",
        "in separate arrays."
      ],
      "metadata": {
        "id": "Qh_wcPq2d6KE"
      }
    },
    {
      "cell_type": "code",
      "source": [
        "import numpy as np\n",
        "\n",
        "def extract_elements_2d(arr, row_indices, col_indices):\n",
        "    \"\"\"\n",
        "    Extract elements from a 2D array using row and column indices provided in separate arrays.\n",
        "\n",
        "    Parameters:\n",
        "    arr (np.ndarray): The 2D array to extract elements from.\n",
        "    row_indices (np.ndarray): The array of row indices.\n",
        "    col_indices (np.ndarray): The array of column indices.\n",
        "\n",
        "    Returns:\n",
        "    np.ndarray: An array of extracted elements.\n",
        "    \"\"\"\n",
        "    return arr[row_indices, col_indices]\n",
        "\n",
        "# Example usage\n",
        "arr = np.array([[1, 2, 3],\n",
        "                [4, 5, 6],\n",
        "                [7, 8, 9]])\n",
        "\n",
        "row_indices = np.array([0, 1, 2])\n",
        "col_indices = np.array([1, 2, 0])\n",
        "\n",
        "result = extract_elements_2d(arr, row_indices, col_indices)\n",
        "print(result)\n"
      ],
      "metadata": {
        "id": "TzrfJUxad9cI",
        "outputId": "8d24fb68-e178-4aad-9028-ab466e00feb4",
        "colab": {
          "base_uri": "https://localhost:8080/"
        }
      },
      "execution_count": 36,
      "outputs": [
        {
          "output_type": "stream",
          "name": "stdout",
          "text": [
            "[2 6 7]\n"
          ]
        }
      ]
    },
    {
      "cell_type": "markdown",
      "source": [
        "Q. 36  Given an array arr of shape (3, 3), add a scalar value of 5 to each element using NumPy broadcasting"
      ],
      "metadata": {
        "id": "O9NYosnbeAAQ"
      }
    },
    {
      "cell_type": "code",
      "source": [
        "import numpy as np\n",
        "\n",
        "arr = np.array([[1, 2, 3],\n",
        "                [4, 5, 6],\n",
        "                [7, 8, 9]])\n",
        "\n",
        "# Adding a scalar value of 5 to each element\n",
        "result = arr + 5\n",
        "\n",
        "print(result)\n"
      ],
      "metadata": {
        "id": "nTrMr1MceHXe",
        "outputId": "33e333e0-0d53-4f90-8e6c-c5b36a8780f2",
        "colab": {
          "base_uri": "https://localhost:8080/"
        }
      },
      "execution_count": 37,
      "outputs": [
        {
          "output_type": "stream",
          "name": "stdout",
          "text": [
            "[[ 6  7  8]\n",
            " [ 9 10 11]\n",
            " [12 13 14]]\n"
          ]
        }
      ]
    },
    {
      "cell_type": "markdown",
      "source": [
        "Q. 37  Consider two arrays arr1 of shape (1, 3) and arr2 of shape (3, 4). Multiply each row of arr2 by the\n",
        "corresponding element in arr1 using NumPy broadcasting."
      ],
      "metadata": {
        "id": "rpJWDTeceLSH"
      }
    },
    {
      "cell_type": "code",
      "source": [
        "import numpy as np\n",
        "\n",
        "arr1 = np.array([[1, 2, 3]])\n",
        "arr2 = np.array([[4, 5, 6, 7],\n",
        "                 [8, 9, 10, 11],\n",
        "                 [12, 13, 14, 15]])\n",
        "\n",
        "# Broadcasting arr1 to match the shape of arr2 and performing element-wise multiplication\n",
        "result = arr2 * arr1.T\n",
        "\n",
        "print(result)\n"
      ],
      "metadata": {
        "id": "D-HePdU9eSSc",
        "outputId": "278ec603-6c27-4dc8-870a-8e692366b322",
        "colab": {
          "base_uri": "https://localhost:8080/"
        }
      },
      "execution_count": 38,
      "outputs": [
        {
          "output_type": "stream",
          "name": "stdout",
          "text": [
            "[[ 4  5  6  7]\n",
            " [16 18 20 22]\n",
            " [36 39 42 45]]\n"
          ]
        }
      ]
    },
    {
      "cell_type": "markdown",
      "source": [
        "Q.38  Given a 1D array arr1 of shape (1, 4) and a 2D array arr2 of shape (4, 3), add arr1 to each row of arr2 using NumPy broadcasting."
      ],
      "metadata": {
        "id": "roGcfGxweY2x"
      }
    },
    {
      "cell_type": "code",
      "source": [
        "import numpy as np\n",
        "\n",
        "arr1 = np.array([[1, 2, 3, 4]])\n",
        "arr2 = np.array([[5, 6, 7],\n",
        "                 [8, 9, 10],\n",
        "                 [11, 12, 13],\n",
        "                 [14, 15, 16]])\n",
        "\n",
        "# Adding arr1 to each row of arr2 using broadcasting\n",
        "result = arr2 + arr1.T\n",
        "\n",
        "print(result)\n"
      ],
      "metadata": {
        "id": "t9LZel9SeYE9",
        "outputId": "1e3a4a7e-180e-4801-bb71-fe16ef7f7a21",
        "colab": {
          "base_uri": "https://localhost:8080/"
        }
      },
      "execution_count": 39,
      "outputs": [
        {
          "output_type": "stream",
          "name": "stdout",
          "text": [
            "[[ 6  7  8]\n",
            " [10 11 12]\n",
            " [14 15 16]\n",
            " [18 19 20]]\n"
          ]
        }
      ]
    },
    {
      "cell_type": "markdown",
      "source": [
        "Q. 39  Consider two arrays arr1 of shape (3, 1) and arr2 of shape (1, 3). Add these arrays using NumPy\n",
        "broadcasting."
      ],
      "metadata": {
        "id": "uFc9B2A6ev8a"
      }
    },
    {
      "cell_type": "code",
      "source": [
        "import numpy as np\n",
        "\n",
        "arr1 = np.array([[1],\n",
        "                 [2],\n",
        "                 [3]])\n",
        "\n",
        "arr2 = np.array([[4, 5, 6]])\n",
        "\n",
        "# Adding arr1 and arr2 using broadcasting\n",
        "result = arr1 + arr2\n",
        "\n",
        "print(result)\n"
      ],
      "metadata": {
        "id": "1z5ciFwdez7h",
        "outputId": "680b9b95-2f1a-4446-f5a0-3903c774bb39",
        "colab": {
          "base_uri": "https://localhost:8080/"
        }
      },
      "execution_count": 40,
      "outputs": [
        {
          "output_type": "stream",
          "name": "stdout",
          "text": [
            "[[5 6 7]\n",
            " [6 7 8]\n",
            " [7 8 9]]\n"
          ]
        }
      ]
    },
    {
      "cell_type": "markdown",
      "source": [
        "Q. 40  Given arrays arr1 of shape (2, 3) and arr2 of shape (2, 2), perform multiplication using NumPy\n",
        "broadcasting. Handle the shape incompatibility."
      ],
      "metadata": {
        "id": "t5Hqm0ZVe6JS"
      }
    },
    {
      "cell_type": "code",
      "source": [
        "import numpy as np\n",
        "\n",
        "arr1 = np.array([[1, 2, 3],\n",
        "                 [4, 5, 6]])\n",
        "\n",
        "arr2 = np.array([[7, 8],\n",
        "                 [9, 10]])\n",
        "\n",
        "# Reshape arr2 to make it compatible for broadcasting\n",
        "arr2_reshaped = arr2[:, np.newaxis]\n",
        "\n",
        "# Perform element-wise multiplication using broadcasting\n",
        "result = arr1 * arr2_reshaped\n",
        "\n",
        "print(result)"
      ],
      "metadata": {
        "collapsed": true,
        "id": "cAzxlYIke_7b"
      },
      "execution_count": null,
      "outputs": []
    },
    {
      "cell_type": "markdown",
      "source": [
        "[[ 7 14 21]\n",
        " [36 45 54]]\n"
      ],
      "metadata": {
        "id": "zcWFD1tMfLlJ"
      }
    },
    {
      "cell_type": "markdown",
      "source": [
        " Q. 41 Calculate column wise mean for the given array:\n",
        " arr = np.array([[1, 2, 3], [4, 5, 6]])"
      ],
      "metadata": {
        "id": "4iWbxOWNfP-6"
      }
    },
    {
      "cell_type": "code",
      "source": [
        "import numpy as np\n",
        "\n",
        "arr = np.array([[1, 2, 3],\n",
        "                [4, 5, 6]])\n",
        "\n",
        "# Calculate column-wise mean\n",
        "column_mean = np.mean(arr, axis=0)\n",
        "\n",
        "print(column_mean)\n"
      ],
      "metadata": {
        "id": "emJow4TzfgWs",
        "outputId": "f0c2cc49-e265-483c-e5cc-a34ce2e5c74d",
        "colab": {
          "base_uri": "https://localhost:8080/"
        }
      },
      "execution_count": 42,
      "outputs": [
        {
          "output_type": "stream",
          "name": "stdout",
          "text": [
            "[2.5 3.5 4.5]\n"
          ]
        }
      ]
    },
    {
      "cell_type": "markdown",
      "source": [
        "Q. 42 Find maximum value in each row of the given array: arr = np.array([[1, 2, 3], [4, 5, 6]])"
      ],
      "metadata": {
        "id": "Zq36-3uSj5rg"
      }
    },
    {
      "cell_type": "code",
      "source": [
        "import numpy as np\n",
        "\n",
        "arr = np.array([[1, 2, 3],\n",
        "                [4, 5, 6]])\n",
        "\n",
        "# Find the maximum value in each row\n",
        "row_max = np.max(arr, axis=1)\n",
        "\n",
        "print(row_max)\n"
      ],
      "metadata": {
        "id": "l5EOF0o_kCrU",
        "outputId": "f26c65da-81f5-4e02-ce37-55edf1916048",
        "colab": {
          "base_uri": "https://localhost:8080/"
        }
      },
      "execution_count": 43,
      "outputs": [
        {
          "output_type": "stream",
          "name": "stdout",
          "text": [
            "[3 6]\n"
          ]
        }
      ]
    },
    {
      "cell_type": "markdown",
      "source": [
        "Q. 43 For the given array, find indices of maximum value in each column. arr = np.array([[1, 2, 3], [4, 5, 6]])"
      ],
      "metadata": {
        "id": "LWdfLEdakZPF"
      }
    },
    {
      "cell_type": "code",
      "source": [
        "import numpy as np\n",
        "\n",
        "arr = np.array([[1, 2, 3],\n",
        "                [4, 5, 6]])\n",
        "\n",
        "# Find indices of maximum value in each column\n",
        "column_max_indices = np.argmax(arr, axis=0)\n",
        "\n",
        "print(column_max_indices)\n"
      ],
      "metadata": {
        "id": "xzTxWz3gkin0",
        "outputId": "3410b507-ece4-4052-bab9-6d5f6054cb92",
        "colab": {
          "base_uri": "https://localhost:8080/"
        }
      },
      "execution_count": 44,
      "outputs": [
        {
          "output_type": "stream",
          "name": "stdout",
          "text": [
            "[1 1 1]\n"
          ]
        }
      ]
    },
    {
      "cell_type": "markdown",
      "source": [
        "Q. 44 For the given array, apply custom function to calculate moving sum along rows. arr = np.array([[1, 2, 3], [4, 5, 6]])"
      ],
      "metadata": {
        "id": "g3M3ekEOkvjm"
      }
    },
    {
      "cell_type": "code",
      "source": [
        "import numpy as np\n",
        "\n",
        "def moving_sum(arr, window_size):\n",
        "    \"\"\"\n",
        "    Calculate the moving sum along rows for a given array.\n",
        "\n",
        "    Parameters:\n",
        "    arr (np.ndarray): The input array.\n",
        "    window_size (int): The size of the moving window.\n",
        "\n",
        "    Returns:\n",
        "    np.ndarray: An array with the moving sums.\n",
        "    \"\"\"\n",
        "    result = np.zeros_like(arr)\n",
        "    for i in range(arr.shape[0]):\n",
        "        for j in range(arr.shape[1] - window_size + 1):\n",
        "            result[i, j + window_size - 1] = np.sum(arr[i, j:j + window_size])\n",
        "    return result\n",
        "\n",
        "# Example usage\n",
        "arr = np.array([[1, 2, 3],\n",
        "                [4, 5, 6]])\n",
        "\n",
        "window_size = 2\n",
        "result = moving_sum(arr, window_size)\n",
        "print(result)\n"
      ],
      "metadata": {
        "id": "wr6zsuSuk4ic",
        "outputId": "6f6a1744-47f7-4e67-877a-b570b3cdd00f",
        "colab": {
          "base_uri": "https://localhost:8080/"
        }
      },
      "execution_count": 45,
      "outputs": [
        {
          "output_type": "stream",
          "name": "stdout",
          "text": [
            "[[ 0  3  5]\n",
            " [ 0  9 11]]\n"
          ]
        }
      ]
    },
    {
      "cell_type": "markdown",
      "source": [
        "Q.45 . In the given array, check if all elements in each column are even.  arr = np.array([[2, 4, 6], [3, 5, 7]])"
      ],
      "metadata": {
        "id": "4AnIhtVMlFP8"
      }
    },
    {
      "cell_type": "code",
      "source": [
        "import numpy as np\n",
        "\n",
        "arr = np.array([[2, 4, 6],\n",
        "                [3, 5, 7]])\n",
        "\n",
        "# Check if all elements in each column are even\n",
        "all_even = np.all(arr % 2 == 0, axis=0)\n",
        "\n",
        "print(all_even)\n"
      ],
      "metadata": {
        "id": "332ulvT1lJth",
        "outputId": "67bb4891-ff72-4586-9a0a-aa3f719177d6",
        "colab": {
          "base_uri": "https://localhost:8080/"
        }
      },
      "execution_count": 46,
      "outputs": [
        {
          "output_type": "stream",
          "name": "stdout",
          "text": [
            "[False False False]\n"
          ]
        }
      ]
    },
    {
      "cell_type": "markdown",
      "source": [
        "Q.46 . Given a NumPy array arr, reshape it into a matrix of dimensions `m` rows and `n` columns. Return the\n",
        "reshaped matrix. original_array = np.array([1, 2, 3, 4, 5, 6])"
      ],
      "metadata": {
        "id": "zlh1fbFGlVLQ"
      }
    },
    {
      "cell_type": "code",
      "source": [
        "import numpy as np\n",
        "\n",
        "def reshape_array(original_array, m, n):\n",
        "    \"\"\"\n",
        "    Reshape a 1D array into a matrix with dimensions m rows and n columns.\n",
        "\n",
        "    Parameters:\n",
        "    original_array (np.ndarray): The original 1D array.\n",
        "    m (int): The number of rows.\n",
        "    n (int): The number of columns.\n",
        "\n",
        "    Returns:\n",
        "    np.ndarray: The reshaped matrix.\n",
        "    \"\"\"\n",
        "    return original_array.reshape(m, n)\n",
        "\n",
        "# Example usage\n",
        "original_array = np.array([1, 2, 3, 4, 5, 6])\n",
        "m, n = 2, 3\n",
        "reshaped_matrix = reshape_array(original_array, m, n)\n",
        "print(reshaped_matrix)\n"
      ],
      "metadata": {
        "id": "cdTEqPP2lZ8d",
        "outputId": "5cf7884f-6f30-489e-cde6-413b13bc7e4d",
        "colab": {
          "base_uri": "https://localhost:8080/"
        }
      },
      "execution_count": 47,
      "outputs": [
        {
          "output_type": "stream",
          "name": "stdout",
          "text": [
            "[[1 2 3]\n",
            " [4 5 6]]\n"
          ]
        }
      ]
    },
    {
      "cell_type": "markdown",
      "source": [
        "Q.47 Create a function that takes a matrix as input and returns the flattened array. input_matrix = np.array([[1, 2, 3], [4, 5, 6]])"
      ],
      "metadata": {
        "id": "L5LaLV9gllk-"
      }
    },
    {
      "cell_type": "code",
      "source": [
        "import numpy as np\n",
        "\n",
        "def flatten_matrix(input_matrix):\n",
        "    return input_matrix.flatten()\n",
        "\n",
        "# Example usage\n",
        "input_matrix = np.array([[1, 2, 3], [4, 5, 6]])\n",
        "flattened_array = flatten_matrix(input_matrix)\n",
        "print(flattened_array)\n"
      ],
      "metadata": {
        "id": "OWeynH5YnsWI",
        "outputId": "39cb694b-950e-4b4a-c04c-eea14afc0fa1",
        "colab": {
          "base_uri": "https://localhost:8080/"
        }
      },
      "execution_count": 48,
      "outputs": [
        {
          "output_type": "stream",
          "name": "stdout",
          "text": [
            "[1 2 3 4 5 6]\n"
          ]
        }
      ]
    },
    {
      "cell_type": "markdown",
      "source": [
        " Q.48 . Write a function that concatenates two given arrays along a specified axis  array1 = np.array([[1, 2], [3, 4]])\n",
        "array2 = np.array([[5, 6], [7, 8]])"
      ],
      "metadata": {
        "id": "1msk5qpsoBES"
      }
    },
    {
      "cell_type": "code",
      "source": [
        "import numpy as np\n",
        "\n",
        "def concatenate_arrays(array1, array2, axis=0):\n",
        "    return np.concatenate((array1, array2), axis=axis)\n",
        "\n",
        "# Example usage\n",
        "array1 = np.array([[1, 2], [3, 4]])\n",
        "array2 = np.array([[5, 6], [7, 8]])\n",
        "\n",
        "# Concatenate along axis 0 (rows)\n",
        "concatenated_array_axis0 = concatenate_arrays(array1, array2, axis=0)\n",
        "print(\"Concatenated along axis 0:\\n\", concatenated_array_axis0)\n",
        "\n",
        "# Concatenate along axis 1 (columns)\n",
        "concatenated_array_axis1 = concatenate_arrays(array1, array2, axis=1)\n",
        "print(\"Concatenated along axis 1:\\n\", concatenated_array_axis1)\n"
      ],
      "metadata": {
        "id": "PZ2pm-groANL",
        "outputId": "c1e7a52c-00ef-4086-a7b2-901ef292ecc2",
        "colab": {
          "base_uri": "https://localhost:8080/"
        }
      },
      "execution_count": 49,
      "outputs": [
        {
          "output_type": "stream",
          "name": "stdout",
          "text": [
            "Concatenated along axis 0:\n",
            " [[1 2]\n",
            " [3 4]\n",
            " [5 6]\n",
            " [7 8]]\n",
            "Concatenated along axis 1:\n",
            " [[1 2 5 6]\n",
            " [3 4 7 8]]\n"
          ]
        }
      ]
    },
    {
      "cell_type": "markdown",
      "source": [
        "Q.49 Create a function that splits an array into multiple sub-arrays along a specified axis.   original_array = np.array([[1, 2, 3], [4, 5, 6], [7, 8, 9]])"
      ],
      "metadata": {
        "id": "UH-SFyIFoPVG"
      }
    },
    {
      "cell_type": "code",
      "source": [
        "import numpy as np\n",
        "\n",
        "def split_array(original_array, indices_or_sections, axis=0):\n",
        "    return np.split(original_array, indices_or_sections, axis=axis)\n",
        "\n",
        "# Example usage\n",
        "original_array = np.array([[1, 2, 3], [4, 5, 6], [7, 8, 9]])\n",
        "\n",
        "# Split into 3 sub-arrays along axis 0 (rows)\n",
        "split_arrays_axis0 = split_array(original_array, 3, axis=0)\n",
        "print(\"Split along axis 0:\")\n",
        "for sub_array in split_arrays_axis0:\n",
        "    print(sub_array)\n",
        "\n",
        "# Split into 3 sub-arrays along axis 1 (columns)\n",
        "split_arrays_axis1 = split_array(original_array, 3, axis=1)\n",
        "print(\"Split along axis 1:\")\n",
        "for sub_array in split_arrays_axis1:\n",
        "    print(sub_array)\n"
      ],
      "metadata": {
        "id": "dVeRHKZQocp-",
        "outputId": "05463520-7b06-48d8-c7d1-0b676a78cff5",
        "colab": {
          "base_uri": "https://localhost:8080/"
        }
      },
      "execution_count": 50,
      "outputs": [
        {
          "output_type": "stream",
          "name": "stdout",
          "text": [
            "Split along axis 0:\n",
            "[[1 2 3]]\n",
            "[[4 5 6]]\n",
            "[[7 8 9]]\n",
            "Split along axis 1:\n",
            "[[1]\n",
            " [4]\n",
            " [7]]\n",
            "[[2]\n",
            " [5]\n",
            " [8]]\n",
            "[[3]\n",
            " [6]\n",
            " [9]]\n"
          ]
        }
      ]
    },
    {
      "cell_type": "markdown",
      "source": [
        "Q.50  Write a function that inserts and then deletes elements from a given array at specified indices.\n",
        "original_array = np.array([1, 2, 3, 4, 5])\n",
        "indices_to_insert = [2, 4]\n",
        "values_to_insert = [10, 11]\n",
        "indices_to_delete = [1, 3]"
      ],
      "metadata": {
        "id": "Czdr4fAVooKQ"
      }
    },
    {
      "cell_type": "code",
      "source": [
        "import numpy as np\n",
        "\n",
        "def modify_array(original_array, indices_to_insert, values_to_insert, indices_to_delete):\n",
        "    # Insert elements at specified indices\n",
        "    modified_array = np.insert(original_array, indices_to_insert, values_to_insert)\n",
        "\n",
        "    # Adjust indices to delete after insertion\n",
        "    adjusted_indices_to_delete = [index + sum(i < index for i in indices_to_insert) for index in indices_to_delete]\n",
        "\n",
        "    # Delete elements at specified indices\n",
        "    modified_array = np.delete(modified_array, adjusted_indices_to_delete)\n",
        "\n",
        "    return modified_array\n",
        "\n",
        "# Example usage\n",
        "original_array = np.array([1, 2, 3, 4, 5])\n",
        "indices_to_insert = [2, 4]\n",
        "values_to_insert = [10, 11]\n",
        "indices_to_delete = [1, 3]\n",
        "\n",
        "result_array = modify_array(original_array, indices_to_insert, values_to_insert, indices_to_delete)\n",
        "print(result_array)\n"
      ],
      "metadata": {
        "id": "ivK3LrgIoy5r",
        "outputId": "953b8c3b-af50-4511-cf52-4c78120e7057",
        "colab": {
          "base_uri": "https://localhost:8080/"
        }
      },
      "execution_count": 51,
      "outputs": [
        {
          "output_type": "stream",
          "name": "stdout",
          "text": [
            "[ 1 10  3 11  5]\n"
          ]
        }
      ]
    },
    {
      "cell_type": "markdown",
      "source": [
        "Q.51  Create a NumPy array `arr1` with random integers and another array `arr2` with integers from 1 to 10.\n",
        "Perform element-wise addition between `arr1` and `arr2`."
      ],
      "metadata": {
        "id": "z-F2J2rTo8E7"
      }
    },
    {
      "cell_type": "code",
      "source": [
        "import numpy as np\n",
        "\n",
        "# Create arr1 with random integers\n",
        "arr1 = np.random.randint(1, 11, size=10)\n",
        "\n",
        "# Create arr2 with integers from 1 to 10\n",
        "arr2 = np.arange(1, 11)\n",
        "\n",
        "# Perform element-wise addition\n",
        "result_array = arr1 + arr2\n",
        "\n",
        "# Print the arrays and the result\n",
        "print(\"arr1:\", arr1)\n",
        "print(\"arr2:\", arr2)\n",
        "print(\"Result of element-wise addition:\", result_array)\n"
      ],
      "metadata": {
        "id": "sWoxOJMYpABZ",
        "outputId": "36b83658-a619-4363-93c6-bc5dcea4c348",
        "colab": {
          "base_uri": "https://localhost:8080/"
        }
      },
      "execution_count": 52,
      "outputs": [
        {
          "output_type": "stream",
          "name": "stdout",
          "text": [
            "arr1: [ 2  7  8  8  9  2  6 10  9 10]\n",
            "arr2: [ 1  2  3  4  5  6  7  8  9 10]\n",
            "Result of element-wise addition: [ 3  9 11 12 14  8 13 18 18 20]\n"
          ]
        }
      ]
    },
    {
      "cell_type": "markdown",
      "source": [
        "Q.52  Generate a NumPy array `arr1` with sequential integers from 10 to 1 and another array `arr2` with integers from 1 to 10. Subtract `arr2` from `arr1` element-wise."
      ],
      "metadata": {
        "id": "Tg7NjpUTpDTq"
      }
    },
    {
      "cell_type": "code",
      "source": [
        "import numpy as np\n",
        "\n",
        "# Create arr1 with sequential integers from 10 to 1\n",
        "arr1 = np.arange(10, 0, -1)\n",
        "\n",
        "# Create arr2 with integers from 1 to 10\n",
        "arr2 = np.arange(1, 11)\n",
        "\n",
        "# Perform element-wise subtraction\n",
        "result_array = arr1 - arr2\n",
        "\n",
        "# Print the arrays and the result\n",
        "print(\"arr1:\", arr1)\n",
        "print(\"arr2:\", arr2)\n",
        "print(\"Result of element-wise subtraction:\", result_array)\n"
      ],
      "metadata": {
        "id": "v0LWYk_IpN3q",
        "outputId": "5511550a-b260-49e1-f792-f913c920796c",
        "colab": {
          "base_uri": "https://localhost:8080/"
        }
      },
      "execution_count": 53,
      "outputs": [
        {
          "output_type": "stream",
          "name": "stdout",
          "text": [
            "arr1: [10  9  8  7  6  5  4  3  2  1]\n",
            "arr2: [ 1  2  3  4  5  6  7  8  9 10]\n",
            "Result of element-wise subtraction: [ 9  7  5  3  1 -1 -3 -5 -7 -9]\n"
          ]
        }
      ]
    },
    {
      "cell_type": "markdown",
      "source": [
        "Q.53  Create a NumPy array `arr1` with random integers and another array `arr2` with integers from 1 to 5.\n",
        "Perform element-wise multiplication between `arr1` and `arr2`."
      ],
      "metadata": {
        "id": "D40akW1epUVV"
      }
    },
    {
      "cell_type": "code",
      "source": [
        "import numpy as np\n",
        "\n",
        "# Create arr1 with random integers\n",
        "arr1 = np.random.randint(1, 11, size=5)\n",
        "\n",
        "# Create arr2 with integers from 1 to 5\n",
        "arr2 = np.arange(1, 6)\n",
        "\n",
        "# Perform element-wise multiplication\n",
        "result_array = arr1 * arr2\n",
        "\n",
        "# Print the arrays and the result\n",
        "print(\"arr1:\", arr1)\n",
        "print(\"arr2:\", arr2)\n",
        "print(\"Result of element-wise multiplication:\", result_array)\n"
      ],
      "metadata": {
        "id": "ZMSjiEFppX7Q",
        "outputId": "faad99c8-71c8-41f5-8580-1797f3ee0859",
        "colab": {
          "base_uri": "https://localhost:8080/"
        }
      },
      "execution_count": 54,
      "outputs": [
        {
          "output_type": "stream",
          "name": "stdout",
          "text": [
            "arr1: [5 4 1 4 6]\n",
            "arr2: [1 2 3 4 5]\n",
            "Result of element-wise multiplication: [ 5  8  3 16 30]\n"
          ]
        }
      ]
    },
    {
      "cell_type": "markdown",
      "source": [
        "Q.54 Generate a NumPy array `arr1` with even integers from 2 to 10 and another array `arr2` with integers from 1\n",
        "to 5. Perform element-wise division of `arr1` by `arr2`."
      ],
      "metadata": {
        "id": "pxGygzFSpZ24"
      }
    },
    {
      "cell_type": "code",
      "source": [
        "import numpy as np\n",
        "\n",
        "# Create arr1 with even integers from 2 to 10\n",
        "arr1 = np.arange(2, 11, 2)\n",
        "\n",
        "# Create arr2 with integers from 1 to 5\n",
        "arr2 = np.arange(1, 6)\n",
        "\n",
        "# Perform element-wise division\n",
        "result_array = arr1 / arr2\n",
        "\n",
        "# Print the arrays and the result\n",
        "print(\"arr1:\", arr1)\n",
        "print(\"arr2:\", arr2)\n",
        "print(\"Result of element-wise division:\", result_array)\n"
      ],
      "metadata": {
        "id": "efj3SpdRphwo",
        "outputId": "8892a3a2-12ff-4d1d-a3d0-23709361efe9",
        "colab": {
          "base_uri": "https://localhost:8080/"
        }
      },
      "execution_count": 55,
      "outputs": [
        {
          "output_type": "stream",
          "name": "stdout",
          "text": [
            "arr1: [ 2  4  6  8 10]\n",
            "arr2: [1 2 3 4 5]\n",
            "Result of element-wise division: [2. 2. 2. 2. 2.]\n"
          ]
        }
      ]
    },
    {
      "cell_type": "markdown",
      "source": [
        "Q.55  Create a NumPy array `arr1` with integers from 1 to 5 and another array `arr2` with the same numbers\n",
        "reversed. Calculate the exponentiation of `arr1` raised to the power of `arr2` element-wise."
      ],
      "metadata": {
        "id": "HouNr2vSpoz4"
      }
    },
    {
      "cell_type": "code",
      "source": [
        "import numpy as np\n",
        "\n",
        "# Create arr1 with integers from 1 to 5\n",
        "arr1 = np.arange(1, 6)\n",
        "\n",
        "# Create arr2 with the same numbers reversed\n",
        "arr2 = arr1[::-1]\n",
        "\n",
        "# Calculate the exponentiation element-wise\n",
        "result_array = np.power(arr1, arr2)\n",
        "\n",
        "# Print the arrays and the result\n",
        "print(\"arr1:\", arr1)\n",
        "print(\"arr2:\", arr2)\n",
        "print(\"Result of element-wise exponentiation:\", result_array)\n"
      ],
      "metadata": {
        "id": "msPRyFxrpxv0",
        "outputId": "6f3742ee-a629-49f6-a05a-31f5b37171dd",
        "colab": {
          "base_uri": "https://localhost:8080/"
        }
      },
      "execution_count": 56,
      "outputs": [
        {
          "output_type": "stream",
          "name": "stdout",
          "text": [
            "arr1: [1 2 3 4 5]\n",
            "arr2: [5 4 3 2 1]\n",
            "Result of element-wise exponentiation: [ 1 16 27 16  5]\n"
          ]
        }
      ]
    },
    {
      "cell_type": "markdown",
      "source": [
        "Q.56 Write a function that counts the occurrences of a specific substring within a NumPy array of strings. arr = np.array(['hello', 'world', 'hello', 'numpy', 'hello'])"
      ],
      "metadata": {
        "id": "HkPEXPGup0F0"
      }
    },
    {
      "cell_type": "code",
      "source": [
        "import numpy as np\n",
        "\n",
        "def count_substring_occurrences(arr, substring):\n",
        "    # Use vectorized operation to count occurrences of the substring in each element\n",
        "    count = np.char.count(arr, substring)\n",
        "    # Sum the counts to get the total occurrences\n",
        "    total_count = np.sum(count)\n",
        "    return total_count\n",
        "\n",
        "# Example usage\n",
        "arr = np.array(['hello', 'world', 'hello', 'numpy', 'hello'])\n",
        "substring = 'hello'\n",
        "occurrences = count_substring_occurrences(arr, substring)\n",
        "print(f\"The substring '{substring}' occurs {occurrences} times in the array.\")\n"
      ],
      "metadata": {
        "id": "NdKil6T8p8qu",
        "outputId": "2ac0dee6-b36b-46fc-fed3-cea86bf62e93",
        "colab": {
          "base_uri": "https://localhost:8080/"
        }
      },
      "execution_count": 57,
      "outputs": [
        {
          "output_type": "stream",
          "name": "stdout",
          "text": [
            "The substring 'hello' occurs 3 times in the array.\n"
          ]
        }
      ]
    },
    {
      "cell_type": "markdown",
      "source": [
        "Q.57 Write a function that extracts uppercase characters from a NumPy array of strings.\n",
        "\n",
        "arr = np.array(['Hello', 'World', 'OpenAI', 'GPT'])"
      ],
      "metadata": {
        "id": "KdTTckuNqATT"
      }
    },
    {
      "cell_type": "code",
      "source": [
        "import numpy as np\n",
        "\n",
        "def extract_uppercase(arr):\n",
        "    # Use vectorized operation to extract uppercase characters from each element\n",
        "    uppercase_chars = np.char.join('', np.char.findall(arr, r'[A-Z]'))\n",
        "    return uppercase_chars\n",
        "\n",
        "# Example usage\n",
        "arr = np.array(['Hello', 'World', 'OpenAI', 'GPT'])\n",
        "uppercase_characters = extract_uppercase(arr)\n",
        "print(\"Uppercase characters:\", uppercase_characters)\n"
      ],
      "metadata": {
        "id": "NhLcDmzHqRkE"
      },
      "execution_count": null,
      "outputs": []
    },
    {
      "cell_type": "markdown",
      "source": [
        "Uppercase characters: ['H' 'W' 'OAI' 'GPT']\n"
      ],
      "metadata": {
        "id": "pVBu7O5oqZyX"
      }
    },
    {
      "cell_type": "markdown",
      "source": [
        "Q.58  Write a function that replaces occurrences of a substring in a NumPy array of strings with a new string.\n",
        "arr = np.array(['apple', 'banana', 'grape', 'pineapple'])"
      ],
      "metadata": {
        "id": "b5Q8e-6VqcXb"
      }
    },
    {
      "cell_type": "code",
      "source": [
        "import numpy as np\n",
        "\n",
        "def replace_substring(arr, old_substring, new_substring):\n",
        "    # Use vectorized operation to replace occurrences of the old substring with the new substring\n",
        "    replaced_array = np.char.replace(arr, old_substring, new_substring)\n",
        "    return replaced_array\n",
        "\n",
        "# Example usage\n",
        "arr = np.array(['apple', 'banana', 'grape', 'pineapple'])\n",
        "old_substring = 'apple'\n",
        "new_substring = 'fruit'\n",
        "replaced_array = replace_substring(arr, old_substring, new_substring)\n",
        "print(\"Replaced array:\", replaced_array)\n"
      ],
      "metadata": {
        "id": "xuJXGzNeqsag",
        "outputId": "1b5c335c-2d0a-4336-ab8d-2f49c43cbc9c",
        "colab": {
          "base_uri": "https://localhost:8080/"
        }
      },
      "execution_count": 59,
      "outputs": [
        {
          "output_type": "stream",
          "name": "stdout",
          "text": [
            "Replaced array: ['fruit' 'banana' 'grape' 'pinefruit']\n"
          ]
        }
      ]
    },
    {
      "cell_type": "markdown",
      "source": [
        "Q. 59 Write a function that concatenates strings in a NumPy array element-wise.\n",
        "arr1 = np.array(['Hello', 'World'])\n",
        "arr2 = np.array(['Open', 'AI'])"
      ],
      "metadata": {
        "id": "8YQ7WLppqyKI"
      }
    },
    {
      "cell_type": "code",
      "source": [
        "import numpy as np\n",
        "\n",
        "def concatenate_strings(arr1, arr2):\n",
        "    # Use vectorized operation to concatenate strings element-wise\n",
        "    concatenated_array = np.char.add(arr1, arr2)\n",
        "    return concatenated_array\n",
        "\n",
        "# Example usage\n",
        "arr1 = np.array(['Hello', 'World'])\n",
        "arr2 = np.array(['Open', 'AI'])\n",
        "\n",
        "result_array = concatenate_strings(arr1, arr2)\n",
        "print(\"Concatenated array:\", result_array)\n"
      ],
      "metadata": {
        "id": "nJ__fel9q962",
        "outputId": "0aff395c-4028-4253-f3a4-ebc61e2f9113",
        "colab": {
          "base_uri": "https://localhost:8080/"
        }
      },
      "execution_count": 60,
      "outputs": [
        {
          "output_type": "stream",
          "name": "stdout",
          "text": [
            "Concatenated array: ['HelloOpen' 'WorldAI']\n"
          ]
        }
      ]
    },
    {
      "cell_type": "markdown",
      "source": [
        "Q. 60  Write a function that finds the length of the longest string in a NumPy array.\n",
        "\n",
        "arr = np.array(['apple', 'banana', 'grape', 'pineapple'])\n",
        "\n"
      ],
      "metadata": {
        "id": "javLrnyErBjd"
      }
    },
    {
      "cell_type": "code",
      "source": [
        "import numpy as np\n",
        "\n",
        "def longest_string_length(arr):\n",
        "    # Use vectorized operation to find the length of each string\n",
        "    lengths = np.vectorize(len)(arr)\n",
        "    # Find the maximum length\n",
        "    max_length = np.max(lengths)\n",
        "    return max_length\n",
        "\n",
        "# Example usage\n",
        "arr = np.array(['apple', 'banana', 'grape', 'pineapple'])\n",
        "max_length = longest_string_length(arr)\n",
        "print(\"Length of the longest string:\", max_length)\n"
      ],
      "metadata": {
        "id": "1cRoQIg0rOwM",
        "outputId": "5a680107-7748-49b0-87f6-1bdbe96a90e0",
        "colab": {
          "base_uri": "https://localhost:8080/"
        }
      },
      "execution_count": 61,
      "outputs": [
        {
          "output_type": "stream",
          "name": "stdout",
          "text": [
            "Length of the longest string: 9\n"
          ]
        }
      ]
    },
    {
      "cell_type": "markdown",
      "source": [
        "Q. 61  Create a dataset of 100 random integers between 1 and 1000. Compute the mean, median, variance, and\n",
        "standard deviation of the dataset using NumPy's functions."
      ],
      "metadata": {
        "id": "FkVt2r1qrUp5"
      }
    },
    {
      "cell_type": "code",
      "source": [
        "import numpy as np\n",
        "\n",
        "# Create a dataset of 100 random integers between 1 and 1000\n",
        "dataset = np.random.randint(1, 1001, size=100)\n",
        "\n",
        "# Compute the mean\n",
        "mean = np.mean(dataset)\n",
        "\n",
        "# Compute the median\n",
        "median = np.median(dataset)\n",
        "\n",
        "# Compute the variance\n",
        "variance = np.var(dataset)\n",
        "\n",
        "# Compute the standard deviation\n",
        "std_deviation = np.std(dataset)\n",
        "\n",
        "# Print the results\n",
        "print(\"Dataset:\", dataset)\n",
        "print(\"Mean:\", mean)\n",
        "print(\"Median:\", median)\n",
        "print(\"Variance:\", variance)\n",
        "print(\"Standard Deviation:\", std_deviation)\n"
      ],
      "metadata": {
        "id": "OKuBVnDgrc2s",
        "outputId": "a1e893b6-0625-4cd9-e04e-c524cf6314b2",
        "colab": {
          "base_uri": "https://localhost:8080/"
        }
      },
      "execution_count": 62,
      "outputs": [
        {
          "output_type": "stream",
          "name": "stdout",
          "text": [
            "Dataset: [ 848  432  449  851  100  985  178  756  798  660  148  911  424  289\n",
            "  962  266  698  640  545  544  715  245  152  676  511  460  883  184\n",
            "   29  803  129  129  933   54  902  551  489  757  274  336  389  618\n",
            "   43  443  544  889  258  322 1000  938   58  292  871  120  780  431\n",
            "   83   92  897  399  612  566  909  634  939   85  204  325  775  965\n",
            "   48  640  132  973  869  181  847  144  661  228  955  792  720  910\n",
            "  374  854  561  306  582  170  676  449   96  198  607  257  882  691\n",
            "  293  931]\n",
            "Mean: 522.04\n",
            "Median: 544.5\n",
            "Variance: 91085.2984\n",
            "Standard Deviation: 301.80341018616735\n"
          ]
        }
      ]
    },
    {
      "cell_type": "markdown",
      "source": [
        "Q. 62  Generate an array of 50 random numbers between 1 and 100. Find the 25th and 75th percentiles of the\n",
        "dataset."
      ],
      "metadata": {
        "id": "e1R1RQz2ri04"
      }
    },
    {
      "cell_type": "code",
      "source": [
        "import numpy as np\n",
        "\n",
        "# Generate an array of 50 random numbers between 1 and 100\n",
        "random_numbers = np.random.randint(1, 101, size=50)\n",
        "\n",
        "# Find the 25th percentile\n",
        "percentile_25 = np.percentile(random_numbers, 25)\n",
        "\n",
        "# Find the 75th percentile\n",
        "percentile_75 = np.percentile(random_numbers, 75)\n",
        "\n",
        "# Print the results\n",
        "print(\"Random numbers:\", random_numbers)\n",
        "print(\"25th percentile:\", percentile_25)\n",
        "print(\"75th percentile:\", percentile_75)\n"
      ],
      "metadata": {
        "id": "6zYm0C5RrmZN",
        "outputId": "d0fb9d5a-478b-4ae2-eb8b-29add52ad826",
        "colab": {
          "base_uri": "https://localhost:8080/"
        }
      },
      "execution_count": 63,
      "outputs": [
        {
          "output_type": "stream",
          "name": "stdout",
          "text": [
            "Random numbers: [ 49  94   4  99  43  78  22  74   1  11  44  59  24  60   3  99  63  36\n",
            "  95  68  83  47 100  21  82  51  28  15  42  59  66  37  11  87  44  12\n",
            "   3  52  81  33  55   1  39  20  47  43  57  61  78  31]\n",
            "25th percentile: 25.0\n",
            "75th percentile: 67.5\n"
          ]
        }
      ]
    },
    {
      "cell_type": "markdown",
      "source": [
        "Q. 63  Create two arrays representing two sets of variables. Compute the correlation coefficient between these arrays using NumPy's `corrcoef` function."
      ],
      "metadata": {
        "id": "zjeoU9VErqLf"
      }
    },
    {
      "cell_type": "code",
      "source": [
        "import numpy as np\n",
        "\n",
        "# Create two arrays representing two sets of variables\n",
        "array1 = np.random.randint(1, 101, size=50)\n",
        "array2 = np.random.randint(1, 101, size=50)\n",
        "\n",
        "# Compute the correlation coefficient\n",
        "correlation_matrix = np.corrcoef(array1, array2)\n",
        "\n",
        "# Print the arrays and the correlation coefficient matrix\n",
        "print(\"Array 1:\", array1)\n",
        "print(\"Array 2:\", array2)\n",
        "print(\"Correlation coefficient matrix:\\n\", correlation_matrix)\n"
      ],
      "metadata": {
        "id": "CcHgVZyZr0ZV",
        "outputId": "3e908ce1-ad3a-4c05-898a-c3a71b7cf24e",
        "colab": {
          "base_uri": "https://localhost:8080/"
        }
      },
      "execution_count": 64,
      "outputs": [
        {
          "output_type": "stream",
          "name": "stdout",
          "text": [
            "Array 1: [25  3  4 95 99 14 41 73 20 96 73 27 67 53 68 62 15 97  5 68 12 87 78 76\n",
            " 57 17 25 30 22 26 81 61 62 84 34 33 71 86 32 14 72 57 25 80 42 19 41 55\n",
            " 80 12]\n",
            "Array 2: [39 94  2 96 45 89 25 68 83  4 77 36 87 62 70 88 44 33 12 85 11 55 38 29\n",
            "  3 28 84 90 24 54 52 47 21 54 30 68 36 40 10 74 42 24  4 47 91 51  4 32\n",
            " 10 11]\n",
            "Correlation coefficient matrix:\n",
            " [[1.         0.06282198]\n",
            " [0.06282198 1.        ]]\n"
          ]
        }
      ]
    },
    {
      "cell_type": "markdown",
      "source": [
        "Q. 64  Create two matrices and perform matrix multiplication using NumPy's `dot` function.\n"
      ],
      "metadata": {
        "id": "fZpzqsrVr6Mm"
      }
    },
    {
      "cell_type": "code",
      "source": [
        "import numpy as np\n",
        "\n",
        "# Create two matrices\n",
        "matrix1 = np.array([[1, 2, 3], [4, 5, 6]])\n",
        "matrix2 = np.array([[7, 8], [9, 10], [11, 12]])\n",
        "\n",
        "# Perform matrix multiplication\n",
        "result_matrix = np.dot(matrix1, matrix2)\n",
        "\n",
        "# Print the matrices and the result\n",
        "print(\"Matrix 1:\\n\", matrix1)\n",
        "print(\"Matrix 2:\\n\", matrix2)\n",
        "print(\"Result of matrix multiplication:\\n\", result_matrix)\n"
      ],
      "metadata": {
        "id": "i2IoovoDr-ht",
        "outputId": "8e639ef1-6937-46ea-d774-79f14bd371d2",
        "colab": {
          "base_uri": "https://localhost:8080/"
        }
      },
      "execution_count": 65,
      "outputs": [
        {
          "output_type": "stream",
          "name": "stdout",
          "text": [
            "Matrix 1:\n",
            " [[1 2 3]\n",
            " [4 5 6]]\n",
            "Matrix 2:\n",
            " [[ 7  8]\n",
            " [ 9 10]\n",
            " [11 12]]\n",
            "Result of matrix multiplication:\n",
            " [[ 58  64]\n",
            " [139 154]]\n"
          ]
        }
      ]
    },
    {
      "cell_type": "markdown",
      "source": [
        "Q.65 Create an array of 50 integers between 10 and 1000. Calculate the 10th, 50th (median), and 90th\n",
        "percentiles along with the first and third quartiles."
      ],
      "metadata": {
        "id": "pBP_6EijsAFE"
      }
    },
    {
      "cell_type": "code",
      "source": [
        "import numpy as np\n",
        "\n",
        "# Create an array of 50 integers between 10 and 1000\n",
        "array = np.random.randint(10, 1001, size=50)\n",
        "\n",
        "# Calculate the 10th percentile\n",
        "percentile_10 = np.percentile(array, 10)\n",
        "\n",
        "# Calculate the 50th percentile (median)\n",
        "percentile_50 = np.percentile(array, 50)\n",
        "\n",
        "# Calculate the 90th percentile\n",
        "percentile_90 = np.percentile(array, 90)\n",
        "\n",
        "# Calculate the first quartile (25th percentile)\n",
        "first_quartile = np.percentile(array, 25)\n",
        "\n",
        "# Calculate the third quartile (75th percentile)\n",
        "third_quartile = np.percentile(array, 75)\n",
        "\n",
        "# Print the results\n",
        "print(\"Array:\", array)\n",
        "print(\"10th percentile:\", percentile_10)\n",
        "print(\"50th percentile (median):\", percentile_50)\n",
        "print(\"90th percentile:\", percentile_90)\n",
        "print(\"First quartile (25th percentile):\", first_quartile)\n",
        "print(\"Third quartile (75th percentile):\", third_quartile)\n"
      ],
      "metadata": {
        "id": "b3I3DdkosGLY",
        "outputId": "e860e70d-cbce-4b03-8eef-a27ef3836047",
        "colab": {
          "base_uri": "https://localhost:8080/"
        }
      },
      "execution_count": 66,
      "outputs": [
        {
          "output_type": "stream",
          "name": "stdout",
          "text": [
            "Array: [549 439 209 433  71 351 875  54 812 940  98  43 655 242 777  46 778 469\n",
            " 300 207 904 959 264  90 456 146 199 139 219 378 301 386 357 178 894 814\n",
            " 186 547 333 881 518 813 124 808  39 763 299 156 283 231]\n",
            "10th percentile: 88.10000000000001\n",
            "50th percentile (median): 342.0\n",
            "90th percentile: 875.6\n",
            "First quartile (25th percentile): 189.25\n",
            "Third quartile (75th percentile): 736.0\n"
          ]
        }
      ]
    },
    {
      "cell_type": "markdown",
      "source": [
        "Q. 66  Create a NumPy array of integers and find the index of a specific element."
      ],
      "metadata": {
        "id": "8dVqRmMysLZh"
      }
    },
    {
      "cell_type": "code",
      "source": [
        "import numpy as np\n",
        "\n",
        "# Create a NumPy array of integers\n",
        "array = np.array([10, 20, 30, 40, 50, 60, 70, 80, 90, 100])\n",
        "\n",
        "# Specify the element to find\n",
        "element_to_find = 50\n",
        "\n",
        "# Find the index of the specific element\n",
        "index = np.where(array == element_to_find)[0][0]\n",
        "\n",
        "# Print the array and the index of the element\n",
        "print(\"Array:\", array)\n",
        "print(f\"Index of element {element_to_find}:\", index)\n"
      ],
      "metadata": {
        "id": "wshVer3QsTCu",
        "outputId": "5f206eee-a721-4bd0-ab89-04d5deffcbab",
        "colab": {
          "base_uri": "https://localhost:8080/"
        }
      },
      "execution_count": 67,
      "outputs": [
        {
          "output_type": "stream",
          "name": "stdout",
          "text": [
            "Array: [ 10  20  30  40  50  60  70  80  90 100]\n",
            "Index of element 50: 4\n"
          ]
        }
      ]
    },
    {
      "cell_type": "markdown",
      "source": [
        "Q.67 Generate a random NumPy array and sort it in ascending order."
      ],
      "metadata": {
        "id": "KUIiuBZ6sdUD"
      }
    },
    {
      "cell_type": "code",
      "source": [
        "import numpy as np\n",
        "\n",
        "# Generate a random NumPy array\n",
        "random_array = np.random.randint(1, 101, size=10)\n",
        "\n",
        "# Sort the array in ascending order\n",
        "sorted_array = np.sort(random_array)\n",
        "\n",
        "# Print the original and sorted arrays\n",
        "print(\"Original array:\", random_array)\n",
        "print(\"Sorted array:\", sorted_array)\n"
      ],
      "metadata": {
        "id": "Xnncw_u_se6x",
        "outputId": "cdb91d82-2ab9-481e-8320-b6d4ee1dfaab",
        "colab": {
          "base_uri": "https://localhost:8080/"
        }
      },
      "execution_count": 68,
      "outputs": [
        {
          "output_type": "stream",
          "name": "stdout",
          "text": [
            "Original array: [85  3 70 13 45 67 92 86 40 40]\n",
            "Sorted array: [ 3 13 40 40 45 67 70 85 86 92]\n"
          ]
        }
      ]
    },
    {
      "cell_type": "markdown",
      "source": [
        "Q.68 Filter elements >20  in the given NumPy array.\n",
        "\n",
        "arr = np.array([12, 25, 6, 42, 8, 30])"
      ],
      "metadata": {
        "id": "GvT4QPDWsi0X"
      }
    },
    {
      "cell_type": "code",
      "source": [
        "import numpy as np\n",
        "\n",
        "# Given array\n",
        "arr = np.array([12, 25, 6, 42, 8, 30])\n",
        "\n",
        "# Filter elements greater than 20\n",
        "filtered_array = arr[arr > 20]\n",
        "\n",
        "# Print the filtered array\n",
        "print(\"Filtered array:\", filtered_array)\n"
      ],
      "metadata": {
        "id": "2Ctw4F71ssR2",
        "outputId": "b10330f2-f97c-4822-d90a-f81f632a9b5b",
        "colab": {
          "base_uri": "https://localhost:8080/"
        }
      },
      "execution_count": 69,
      "outputs": [
        {
          "output_type": "stream",
          "name": "stdout",
          "text": [
            "Filtered array: [25 42 30]\n"
          ]
        }
      ]
    },
    {
      "cell_type": "markdown",
      "source": [
        "Q.68 Filter elements which are divisible by 3 from a given NumPy array arr = np.array([1, 5, 8, 12, 15])"
      ],
      "metadata": {
        "id": "NxTm1x8vtG6a"
      }
    },
    {
      "cell_type": "code",
      "source": [
        "import numpy as np\n",
        "\n",
        "arr = np.array([1, 5, 8, 12, 15])\n",
        "filtered_arr = arr[arr % 3 == 0]\n",
        "\n",
        "print(filtered_arr)\n"
      ],
      "metadata": {
        "id": "7gGFhVBEtMHx",
        "outputId": "daf62727-28a3-40a4-e4eb-81b4275846ce",
        "colab": {
          "base_uri": "https://localhost:8080/"
        }
      },
      "execution_count": 70,
      "outputs": [
        {
          "output_type": "stream",
          "name": "stdout",
          "text": [
            "[12 15]\n"
          ]
        }
      ]
    },
    {
      "cell_type": "markdown",
      "source": [
        "Q.69 Filter elements which are ≥ 20 and ≤ 40 from a given NumPy array. arr = np.array([10, 20, 30, 40, 50])"
      ],
      "metadata": {
        "id": "p7q4zvumtXNX"
      }
    },
    {
      "cell_type": "code",
      "source": [
        "import numpy as np\n",
        "\n",
        "arr = np.array([10, 20, 30, 40, 50])\n",
        "filtered_arr = arr[(arr >= 20) & (arr <= 40)]\n",
        "\n",
        "print(filtered_arr)\n"
      ],
      "metadata": {
        "id": "5wntFOK8tbIS",
        "outputId": "299cb32d-a297-43b0-d739-4af4cc3c2191",
        "colab": {
          "base_uri": "https://localhost:8080/"
        }
      },
      "execution_count": 71,
      "outputs": [
        {
          "output_type": "stream",
          "name": "stdout",
          "text": [
            "[20 30 40]\n"
          ]
        }
      ]
    },
    {
      "cell_type": "markdown",
      "source": [
        "Q.70 For the given NumPy array, check its byte order using the `dtype` attribute byteorder.  arr = np.array([1, 2, 3])"
      ],
      "metadata": {
        "id": "w8nQ3VhftlBK"
      }
    },
    {
      "cell_type": "code",
      "source": [
        "import numpy as np\n",
        "\n",
        "arr = np.array([1, 2, 3])\n",
        "byte_order = arr.dtype.byteorder\n",
        "\n",
        "print(byte_order)\n"
      ],
      "metadata": {
        "id": "fA8wGAqrtuIi",
        "outputId": "940673c1-b699-430b-8d72-1d22f24818d3",
        "colab": {
          "base_uri": "https://localhost:8080/"
        }
      },
      "execution_count": 72,
      "outputs": [
        {
          "output_type": "stream",
          "name": "stdout",
          "text": [
            "=\n"
          ]
        }
      ]
    },
    {
      "cell_type": "markdown",
      "source": [
        "Q.71 For the given NumPy array, check its byte order using the `dtype` attribute byteorder. arr = np.array([1, 2, 3])"
      ],
      "metadata": {
        "id": "qIZQR0gwuBno"
      }
    },
    {
      "cell_type": "code",
      "source": [
        "import numpy as np\n",
        "\n",
        "arr = np.array([1, 2, 3])\n",
        "byte_order = arr.dtype.byteorder\n",
        "\n",
        "print(byte_order)\n"
      ],
      "metadata": {
        "id": "9_d0WVOSuEcK",
        "outputId": "a36f5ebc-c1fa-4a03-e3c6-abb799371488",
        "colab": {
          "base_uri": "https://localhost:8080/"
        }
      },
      "execution_count": 73,
      "outputs": [
        {
          "output_type": "stream",
          "name": "stdout",
          "text": [
            "=\n"
          ]
        }
      ]
    },
    {
      "cell_type": "markdown",
      "source": [
        "Q.74 . For the given NumPy array, perform byte swapping in place using `byteswap()`. arr = np.array([1, 2, 3], dtype=np.int32)"
      ],
      "metadata": {
        "id": "4jrMyFQEuQpL"
      }
    },
    {
      "cell_type": "code",
      "source": [
        "import numpy as np\n",
        "\n",
        "arr = np.array([1, 2, 3], dtype=np.int32)\n",
        "arr.byteswap(inplace=True)\n",
        "\n",
        "print(arr)\n"
      ],
      "metadata": {
        "id": "yBXssy81uVal",
        "outputId": "a262e41f-3a13-4b50-ccf0-f7421ef8a494",
        "colab": {
          "base_uri": "https://localhost:8080/"
        }
      },
      "execution_count": 74,
      "outputs": [
        {
          "output_type": "stream",
          "name": "stdout",
          "text": [
            "[16777216 33554432 50331648]\n"
          ]
        }
      ]
    },
    {
      "cell_type": "markdown",
      "source": [
        "Q.75 . For the given NumPy array, swap its byte order without modifying the original array using\n",
        "`newbyteorder()`. arr = np.array([1, 2, 3], dtype=np.int32)"
      ],
      "metadata": {
        "id": "gOpddAxUuhMm"
      }
    },
    {
      "cell_type": "code",
      "source": [
        "import numpy as np\n",
        "\n",
        "arr = np.array([1, 2, 3], dtype=np.int32)\n",
        "swapped_arr = arr.newbyteorder()\n",
        "\n",
        "print(swapped_arr)\n"
      ],
      "metadata": {
        "id": "E8gJtmeduksE",
        "outputId": "1dc44113-7b9e-40ca-9dc9-fc6f436acd56",
        "colab": {
          "base_uri": "https://localhost:8080/"
        }
      },
      "execution_count": 75,
      "outputs": [
        {
          "output_type": "stream",
          "name": "stdout",
          "text": [
            "[16777216 33554432 50331648]\n"
          ]
        }
      ]
    },
    {
      "cell_type": "markdown",
      "source": [
        "Q.76  Create a NumPy array `arr1` with values from 1 to 10. Create a copy of `arr1` named `copy_arr` and modify\n",
        "an element in `copy_arr`. Check if modifying `copy_arr` affects `arr1`."
      ],
      "metadata": {
        "id": "J4S3JuYjur_z"
      }
    },
    {
      "cell_type": "code",
      "source": [
        "import numpy as np\n",
        "\n",
        "# Create the original array\n",
        "arr1 = np.array([1, 2, 3, 4, 5, 6, 7, 8, 9, 10])\n",
        "\n",
        "# Create a copy of the original array\n",
        "copy_arr = arr1.copy()\n",
        "\n",
        "# Modify an element in the copy\n",
        "copy_arr[0] = 99\n",
        "\n",
        "# Print both arrays to check if the original array is affected\n",
        "print(\"Original array:\", arr1)\n",
        "print(\"Modified copy:\", copy_arr)\n"
      ],
      "metadata": {
        "id": "4_RDRlWuuwrM",
        "outputId": "ae123842-3687-4df9-ceb9-c8f023565817",
        "colab": {
          "base_uri": "https://localhost:8080/"
        }
      },
      "execution_count": 76,
      "outputs": [
        {
          "output_type": "stream",
          "name": "stdout",
          "text": [
            "Original array: [ 1  2  3  4  5  6  7  8  9 10]\n",
            "Modified copy: [99  2  3  4  5  6  7  8  9 10]\n"
          ]
        }
      ]
    },
    {
      "cell_type": "markdown",
      "source": [
        "Q.77  Create a 2D NumPy array `matrix` of shape (3, 3) with random integers. Extract a slice `view_slice` from\n",
        "the matrix. Modify an element in `view_slice` and observe if it changes the original `matrix`."
      ],
      "metadata": {
        "id": "mUeK3yypuzS7"
      }
    },
    {
      "cell_type": "code",
      "source": [
        "import numpy as np\n",
        "\n",
        "# Create a 2D array with random integers\n",
        "matrix = np.random.randint(1, 100, size=(3, 3))\n",
        "\n",
        "# Extract a slice from the matrix\n",
        "view_slice = matrix[1:, 1:]\n",
        "\n",
        "# Modify an element in the slice\n",
        "view_slice[0, 0] = 999\n",
        "\n",
        "# Print the original matrix and the slice to observe changes\n",
        "print(\"Original matrix:\\n\", matrix)\n",
        "print(\"Modified slice:\\n\", view_slice)\n"
      ],
      "metadata": {
        "id": "68C6jTmeu7lX",
        "outputId": "0a3ca868-3db5-4920-963c-4aa98df888c0",
        "colab": {
          "base_uri": "https://localhost:8080/"
        }
      },
      "execution_count": 77,
      "outputs": [
        {
          "output_type": "stream",
          "name": "stdout",
          "text": [
            "Original matrix:\n",
            " [[ 76  23  31]\n",
            " [ 18 999  72]\n",
            " [ 19  93  44]]\n",
            "Modified slice:\n",
            " [[999  72]\n",
            " [ 93  44]]\n"
          ]
        }
      ]
    },
    {
      "cell_type": "markdown",
      "source": [
        "Q.78  Create a NumPy array `array_a` of shape (4, 3) with sequential integers from 1 to 12. Extract a slice\n",
        "`view_b` from `array_a` and broadcast the addition of 5 to view_b. Check if it alters the original `array_a`.\n"
      ],
      "metadata": {
        "id": "h1JJAlcpvGgR"
      }
    },
    {
      "cell_type": "code",
      "source": [
        "import numpy as np\n",
        "\n",
        "# Create the array with sequential integers from 1 to 12\n",
        "array_a = np.arange(1, 13).reshape(4, 3)\n",
        "\n",
        "# Extract a slice from the array\n",
        "view_b = array_a[1:3, 1:3]\n",
        "\n",
        "# Broadcast the addition of 5 to the slice\n",
        "view_b += 5\n",
        "\n",
        "# Print the original array and the slice to observe changes\n",
        "print(\"Original array after modification:\\n\", array_a)\n",
        "print(\"Modified slice:\\n\", view_b)\n"
      ],
      "metadata": {
        "id": "As-WP4xyvNIR",
        "outputId": "606ea3ff-9acb-40f3-d8a9-36d3015ae56a",
        "colab": {
          "base_uri": "https://localhost:8080/"
        }
      },
      "execution_count": 78,
      "outputs": [
        {
          "output_type": "stream",
          "name": "stdout",
          "text": [
            "Original array after modification:\n",
            " [[ 1  2  3]\n",
            " [ 4 10 11]\n",
            " [ 7 13 14]\n",
            " [10 11 12]]\n",
            "Modified slice:\n",
            " [[10 11]\n",
            " [13 14]]\n"
          ]
        }
      ]
    },
    {
      "cell_type": "markdown",
      "source": [
        "Q.79 . Create a NumPy array `orig_array` of shape (2, 4) with values from 1 to 8. Create a reshaped view\n",
        "`reshaped_view` of shape (4, 2) from orig_array. Modify an element in `reshaped_view` and check if it\n",
        "reflects changes in the original `orig_array`."
      ],
      "metadata": {
        "id": "_hFGmvAzvPZI"
      }
    },
    {
      "cell_type": "code",
      "source": [
        "import numpy as np\n",
        "\n",
        "# Create the original array with values from 1 to 8\n",
        "orig_array = np.arange(1, 9).reshape(2, 4)\n",
        "\n",
        "# Create a reshaped view of shape (4, 2)\n",
        "reshaped_view = orig_array.reshape(4, 2)\n",
        "\n",
        "# Modify an element in the reshaped view\n",
        "reshaped_view[0, 0] = 99\n",
        "\n",
        "# Print the original array and the reshaped view to observe changes\n",
        "print(\"Original array after modification:\\n\", orig_array)\n",
        "print(\"Reshaped view:\\n\", reshaped_view)\n"
      ],
      "metadata": {
        "id": "8vI4ahC9vU8g",
        "outputId": "d83402ec-844d-4b03-a73d-efbd51891cfe",
        "colab": {
          "base_uri": "https://localhost:8080/"
        }
      },
      "execution_count": 79,
      "outputs": [
        {
          "output_type": "stream",
          "name": "stdout",
          "text": [
            "Original array after modification:\n",
            " [[99  2  3  4]\n",
            " [ 5  6  7  8]]\n",
            "Reshaped view:\n",
            " [[99  2]\n",
            " [ 3  4]\n",
            " [ 5  6]\n",
            " [ 7  8]]\n"
          ]
        }
      ]
    },
    {
      "cell_type": "markdown",
      "source": [
        "Q.80  Create a NumPy array `data` of shape (3, 4) with random integers. Extract a copy `data_copy` of\n",
        "elements greater than 5. Modify an element in `data_copy` and verify if it affects the original `data`.\n"
      ],
      "metadata": {
        "id": "tc92F6UpvX_e"
      }
    },
    {
      "cell_type": "code",
      "source": [
        "import numpy as np\n",
        "\n",
        "# Create a 2D array with random integers\n",
        "data = np.random.randint(1, 10, size=(3, 4))\n",
        "\n",
        "# Extract a copy of elements greater than 5\n",
        "data_copy = data[data > 5].copy()\n",
        "\n",
        "# Modify an element in the copy\n",
        "if data_copy.size > 0:\n",
        "    data_copy[0] = 99\n",
        "\n",
        "# Print the original array and the copy to observe changes\n",
        "print(\"Original array:\\n\", data)\n",
        "print(\"Modified copy:\\n\", data_copy)\n"
      ],
      "metadata": {
        "id": "AWBVwFpEvf0m",
        "outputId": "a964375f-f251-4554-9238-14c05e9b7df6",
        "colab": {
          "base_uri": "https://localhost:8080/"
        }
      },
      "execution_count": 80,
      "outputs": [
        {
          "output_type": "stream",
          "name": "stdout",
          "text": [
            "Original array:\n",
            " [[4 2 6 3]\n",
            " [1 2 1 7]\n",
            " [1 5 9 5]]\n",
            "Modified copy:\n",
            " [99  7  9]\n"
          ]
        }
      ]
    },
    {
      "cell_type": "markdown",
      "source": [
        "Q.81  Create two matrices A and B of identical shape containing integers and perform addition and subtraction\n",
        "operations between them."
      ],
      "metadata": {
        "id": "L6xW3cYOvmhc"
      }
    },
    {
      "cell_type": "code",
      "source": [
        "import numpy as np\n",
        "\n",
        "# Create two matrices A and B of shape (3, 3) with random integers\n",
        "A = np.random.randint(1, 10, size=(3, 3))\n",
        "B = np.random.randint(1, 10, size=(3, 3))\n",
        "\n",
        "# Perform addition\n",
        "addition_result = A + B\n",
        "\n",
        "# Perform subtraction\n",
        "subtraction_result = A - B\n",
        "\n",
        "# Print the matrices and the results\n",
        "print(\"Matrix A:\\n\", A)\n",
        "print(\"Matrix B:\\n\", B)\n",
        "print(\"Addition of A and B:\\n\", addition_result)\n",
        "print(\"Subtraction of A and B:\\n\", subtraction_result)\n"
      ],
      "metadata": {
        "id": "WvqiJKjzvp70",
        "outputId": "ed2945b8-2046-41f6-e5e7-11c8d320dfd4",
        "colab": {
          "base_uri": "https://localhost:8080/"
        }
      },
      "execution_count": 81,
      "outputs": [
        {
          "output_type": "stream",
          "name": "stdout",
          "text": [
            "Matrix A:\n",
            " [[4 4 9]\n",
            " [9 8 1]\n",
            " [4 9 8]]\n",
            "Matrix B:\n",
            " [[8 2 9]\n",
            " [5 8 1]\n",
            " [5 1 7]]\n",
            "Addition of A and B:\n",
            " [[12  6 18]\n",
            " [14 16  2]\n",
            " [ 9 10 15]]\n",
            "Subtraction of A and B:\n",
            " [[-4  2  0]\n",
            " [ 4  0  0]\n",
            " [-1  8  1]]\n"
          ]
        }
      ]
    },
    {
      "cell_type": "markdown",
      "source": [
        "Q.82  Generate two matrices `C` (3x2) and `D` (2x4) and perform matrix multiplication."
      ],
      "metadata": {
        "id": "mu06bWXNvwCG"
      }
    },
    {
      "cell_type": "code",
      "source": [
        "import numpy as np\n",
        "\n",
        "# Generate matrix C of shape (3, 2) with random integers\n",
        "C = np.random.randint(1, 10, size=(3, 2))\n",
        "\n",
        "# Generate matrix D of shape (2, 4) with random integers\n",
        "D = np.random.randint(1, 10, size=(2, 4))\n",
        "\n",
        "# Perform matrix multiplication\n",
        "result = np.dot(C, D)\n",
        "\n",
        "# Print the matrices and the result\n",
        "print(\"Matrix C:\\n\", C)\n",
        "print(\"Matrix D:\\n\", D)\n",
        "print(\"Matrix multiplication result (C * D):\\n\", result)\n"
      ],
      "metadata": {
        "id": "H_Xp8fdrvyxM",
        "outputId": "20644f07-5deb-47a9-e9d0-6049840886a2",
        "colab": {
          "base_uri": "https://localhost:8080/"
        }
      },
      "execution_count": 82,
      "outputs": [
        {
          "output_type": "stream",
          "name": "stdout",
          "text": [
            "Matrix C:\n",
            " [[5 3]\n",
            " [5 7]\n",
            " [4 4]]\n",
            "Matrix D:\n",
            " [[8 9 6 1]\n",
            " [9 6 5 8]]\n",
            "Matrix multiplication result (C * D):\n",
            " [[ 67  63  45  29]\n",
            " [103  87  65  61]\n",
            " [ 68  60  44  36]]\n"
          ]
        }
      ]
    },
    {
      "cell_type": "markdown",
      "source": [
        "Q.83 Create a matrix `E` and find its transpose."
      ],
      "metadata": {
        "id": "4NEDrpARv6Vy"
      }
    },
    {
      "cell_type": "code",
      "source": [
        "import numpy as np\n",
        "\n",
        "# Create a matrix E of shape (3, 3) with random integers\n",
        "E = np.random.randint(1, 10, size=(3, 3))\n",
        "\n",
        "# Find the transpose of the matrix\n",
        "transpose_E = E.T\n",
        "\n",
        "# Print the original matrix and its transpose\n",
        "print(\"Matrix E:\\n\", E)\n",
        "print(\"Transpose of E:\\n\", transpose_E)\n"
      ],
      "metadata": {
        "id": "W3ez-7EZwC3y",
        "outputId": "95f20def-f53e-451a-81fd-11e499f1ab83",
        "colab": {
          "base_uri": "https://localhost:8080/"
        }
      },
      "execution_count": 83,
      "outputs": [
        {
          "output_type": "stream",
          "name": "stdout",
          "text": [
            "Matrix E:\n",
            " [[5 2 4]\n",
            " [4 3 6]\n",
            " [3 4 6]]\n",
            "Transpose of E:\n",
            " [[5 4 3]\n",
            " [2 3 4]\n",
            " [4 6 6]]\n"
          ]
        }
      ]
    },
    {
      "cell_type": "markdown",
      "source": [
        "Q.84 Generate a square matrix `F` and compute its determinant."
      ],
      "metadata": {
        "id": "qIB3F_PhwE58"
      }
    },
    {
      "cell_type": "code",
      "source": [
        "import numpy as np\n",
        "\n",
        "# Generate a square matrix F of shape (3, 3) with random integers\n",
        "F = np.random.randint(1, 10, size=(3, 3))\n",
        "\n",
        "# Compute the determinant of the matrix\n",
        "determinant_F = np.linalg.det(F)\n",
        "\n",
        "# Print the matrix and its determinant\n",
        "print(\"Matrix F:\\n\", F)\n",
        "print(\"Determinant of F:\", determinant_F)\n"
      ],
      "metadata": {
        "id": "LSDZOPN8wOHS",
        "outputId": "62749ae5-d2ba-48c5-a6c2-71053f55af67",
        "colab": {
          "base_uri": "https://localhost:8080/"
        }
      },
      "execution_count": 84,
      "outputs": [
        {
          "output_type": "stream",
          "name": "stdout",
          "text": [
            "Matrix F:\n",
            " [[8 3 8]\n",
            " [2 7 6]\n",
            " [1 1 4]]\n",
            "Determinant of F: 129.99999999999997\n"
          ]
        }
      ]
    },
    {
      "cell_type": "markdown",
      "source": [
        "Q.85 Create a square matrix `G` and find its inverse."
      ],
      "metadata": {
        "id": "yAAKDET3wP6i"
      }
    },
    {
      "cell_type": "code",
      "source": [
        "import numpy as np\n",
        "\n",
        "# Create a square matrix G of shape (3, 3) with random integers\n",
        "G = np.random.randint(1, 10, size=(3, 3))\n",
        "\n",
        "# Compute the inverse of the matrix\n",
        "inverse_G = np.linalg.inv(G)\n",
        "\n",
        "# Print the matrix and its inverse\n",
        "print(\"Matrix G:\\n\", G)\n",
        "print(\"Inverse of G:\\n\", inverse_G)\n"
      ],
      "metadata": {
        "id": "bqyZEO0uwWKc",
        "outputId": "64c361a8-9dcd-44c0-a9f3-4a1e11354677",
        "colab": {
          "base_uri": "https://localhost:8080/"
        }
      },
      "execution_count": 85,
      "outputs": [
        {
          "output_type": "stream",
          "name": "stdout",
          "text": [
            "Matrix G:\n",
            " [[2 7 7]\n",
            " [8 9 9]\n",
            " [8 1 9]]\n",
            "Inverse of G:\n",
            " [[-0.23684211  0.18421053  0.        ]\n",
            " [-0.          0.125      -0.125     ]\n",
            " [ 0.21052632 -0.17763158  0.125     ]]\n"
          ]
        }
      ]
    }
  ],
  "metadata": {
    "colab": {
      "name": "Welcome To Colab",
      "provenance": [],
      "include_colab_link": true
    },
    "kernelspec": {
      "display_name": "Python 3",
      "name": "python3"
    }
  },
  "nbformat": 4,
  "nbformat_minor": 0
}