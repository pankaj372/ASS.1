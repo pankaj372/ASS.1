{
  "cells": [
    {
      "cell_type": "markdown",
      "metadata": {
        "id": "view-in-github",
        "colab_type": "text"
      },
      "source": [
        "<a href=\"https://colab.research.google.com/github/pankaj372/ASS.1/blob/main/Copy_of_Welcome_To_Colab.ipynb\" target=\"_parent\"><img src=\"https://colab.research.google.com/assets/colab-badge.svg\" alt=\"Open In Colab\"/></a>"
      ]
    },
    {
      "cell_type": "markdown",
      "source": [
        "# Q.1 convert an integer to a floating-point number"
      ],
      "metadata": {
        "id": "ACxRCqCI3ly0"
      }
    },
    {
      "cell_type": "code",
      "source": [
        "integer_value = 10\n",
        "float_value = 5.5\n",
        "result = integer_value + float_value\n",
        "print(result)  # Output will be 15.5\n"
      ],
      "metadata": {
        "colab": {
          "base_uri": "https://localhost:8080/"
        },
        "id": "wsh-at7G34f8",
        "outputId": "1c4d4ec7-32f3-4328-c68a-57d35aaaa3fe"
      },
      "execution_count": null,
      "outputs": [
        {
          "output_type": "stream",
          "name": "stdout",
          "text": [
            "15.5\n"
          ]
        }
      ]
    },
    {
      "cell_type": "code",
      "source": [],
      "metadata": {
        "id": "L6f_YapvA4xV"
      },
      "execution_count": null,
      "outputs": []
    },
    {
      "cell_type": "markdown",
      "source": [],
      "metadata": {
        "id": "Docm7KNdBG5r"
      }
    },
    {
      "cell_type": "markdown",
      "source": [
        "# Q,2 convert a float to an integer"
      ],
      "metadata": {
        "id": "jwVXuh-04UbJ"
      }
    },
    {
      "cell_type": "code",
      "source": [
        "float_value = 5.7\n",
        "integer_result = int(float_value)\n",
        "print(integer_result)  # Output will be 5\n"
      ],
      "metadata": {
        "colab": {
          "base_uri": "https://localhost:8080/"
        },
        "id": "1NboZS2l4om9",
        "outputId": "f1e3c0fa-49f1-4df2-fabe-471e70f006b5"
      },
      "execution_count": null,
      "outputs": [
        {
          "output_type": "stream",
          "name": "stdout",
          "text": [
            "5\n"
          ]
        }
      ]
    },
    {
      "cell_type": "markdown",
      "source": [
        "# Q.3 CONVERT AN INTEGER TO A STRING"
      ],
      "metadata": {
        "id": "XkgNKXLx5Tzt"
      }
    },
    {
      "cell_type": "code",
      "source": [
        "my_integer = 42\n",
        "my_string = str(my_integer)\n",
        "print(my_string)  # Output will be \"42\"\n"
      ],
      "metadata": {
        "colab": {
          "base_uri": "https://localhost:8080/"
        },
        "id": "JjrmTOsD6KRI",
        "outputId": "9e8db338-d83c-47d5-fc84-0ca0ae29cd3b"
      },
      "execution_count": null,
      "outputs": [
        {
          "output_type": "stream",
          "name": "stdout",
          "text": [
            "42\n"
          ]
        }
      ]
    },
    {
      "cell_type": "markdown",
      "source": [
        "# Q.4 CONVERT A LIST TO A TUPLE"
      ],
      "metadata": {
        "id": "xzVt0U586Rzx"
      }
    },
    {
      "cell_type": "code",
      "source": [
        "my_list = [1, 2, 3, 4, 5]\n",
        "my_tuple = tuple(my_list)\n",
        "print(my_tuple)\n"
      ],
      "metadata": {
        "colab": {
          "base_uri": "https://localhost:8080/"
        },
        "id": "dOUVXSwI6cCR",
        "outputId": "5efd6ce7-5daf-4eae-b042-beeed69fab0c"
      },
      "execution_count": null,
      "outputs": [
        {
          "output_type": "stream",
          "name": "stdout",
          "text": [
            "(1, 2, 3, 4, 5)\n"
          ]
        }
      ]
    },
    {
      "cell_type": "markdown",
      "source": [
        "# Q.5 convert a tuple to a list"
      ],
      "metadata": {
        "id": "xsxF_Ydl6gk5"
      }
    },
    {
      "cell_type": "code",
      "source": [
        "my_tuple = (1, 2, 3)\n",
        "my_list = list(my_tuple)\n",
        "print(my_list)  # Output: [1, 2, 3]\n"
      ],
      "metadata": {
        "colab": {
          "base_uri": "https://localhost:8080/"
        },
        "id": "D8ZXlG2B6-7S",
        "outputId": "1e9e3571-73ee-491e-afe7-71deb77bc489"
      },
      "execution_count": null,
      "outputs": [
        {
          "output_type": "stream",
          "name": "stdout",
          "text": [
            "[1, 2, 3]\n"
          ]
        }
      ]
    },
    {
      "cell_type": "markdown",
      "source": [
        "# Q.6 CONVERT A DECIMAL NUMBER TO BINARY\n"
      ],
      "metadata": {
        "id": "UJzNP7ME7DiM"
      }
    },
    {
      "cell_type": "code",
      "source": [
        "def DecimalToBinary(num):\n",
        "    if num >= 1:\n",
        "        DecimalToBinary(num // 2)\n",
        "        print(num % 2, end='')\n",
        "\n",
        "dec_val = 24\n",
        "DecimalToBinary(dec_val)  # Output: 011000\n"
      ],
      "metadata": {
        "colab": {
          "base_uri": "https://localhost:8080/"
        },
        "id": "5kKi_vEe7s2N",
        "outputId": "05893e38-4383-42c1-eda6-297ce61f5267"
      },
      "execution_count": null,
      "outputs": [
        {
          "output_type": "stream",
          "name": "stdout",
          "text": [
            "11000"
          ]
        }
      ]
    },
    {
      "cell_type": "markdown",
      "source": [
        "# Q.7 CONVERT A NON-ZERO NUMBER TO BOOLEAN"
      ],
      "metadata": {
        "id": "wHxG8p5z8CXM"
      }
    },
    {
      "cell_type": "code",
      "source": [
        "non_zero_number = 42  # Replace with your non-zero number\n",
        "is_non_zero = bool(non_zero_number)\n",
        "print(is_non_zero)  # Output will be True\n"
      ],
      "metadata": {
        "colab": {
          "base_uri": "https://localhost:8080/"
        },
        "id": "Lq0SBrPx8Uw3",
        "outputId": "dc6d2795-7811-4a80-95fb-bf23eb321a73"
      },
      "execution_count": null,
      "outputs": [
        {
          "output_type": "stream",
          "name": "stdout",
          "text": [
            "True\n"
          ]
        }
      ]
    }
  ],
  "metadata": {
    "colab": {
      "provenance": [],
      "include_colab_link": true
    },
    "kernelspec": {
      "display_name": "Python 3",
      "name": "python3"
    }
  },
  "nbformat": 4,
  "nbformat_minor": 0
}