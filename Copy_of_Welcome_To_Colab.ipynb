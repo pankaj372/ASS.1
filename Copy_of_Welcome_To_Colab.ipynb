{
  "cells": [
    {
      "cell_type": "markdown",
      "metadata": {
        "id": "view-in-github",
        "colab_type": "text"
      },
      "source": [
        "<a href=\"https://colab.research.google.com/github/pankaj372/ASS.1/blob/main/Copy_of_Welcome_To_Colab.ipynb\" target=\"_parent\"><img src=\"https://colab.research.google.com/assets/colab-badge.svg\" alt=\"Open In Colab\"/></a>"
      ]
    },
    {
      "cell_type": "markdown",
      "source": [
        "NUMPY ASSIGNMET"
      ],
      "metadata": {
        "id": "1eHlF9BYPiVo"
      }
    },
    {
      "cell_type": "markdown",
      "source": [
        "Q.1  Create a NumPy array 'arr' of integers from 0 to 5 and print its data type.\n"
      ],
      "metadata": {
        "id": "7Kj_3bXIP997"
      }
    },
    {
      "cell_type": "code",
      "source": [
        "import numpy as np\n",
        "\n",
        "# Create a NumPy array of integers from 0 to 5\n",
        "arr = np.arange(6)\n",
        "\n",
        "# Print the array\n",
        "print(\"Array:\", arr)\n",
        "\n",
        "# Print the data type of the array\n",
        "print(\"Data type:\", arr.dtype)\n"
      ],
      "metadata": {
        "id": "k1uUbPklQSH5",
        "outputId": "e1567fe5-579e-43a7-cc11-83b8f782280e",
        "colab": {
          "base_uri": "https://localhost:8080/"
        }
      },
      "execution_count": null,
      "outputs": [
        {
          "output_type": "stream",
          "name": "stdout",
          "text": [
            "Array: [0 1 2 3 4 5]\n",
            "Data type: int64\n"
          ]
        }
      ]
    },
    {
      "cell_type": "markdown",
      "source": [
        "Q.2  Given a NumPy array 'arr', check if its data type is float64.\n",
        "arr = np.array([1.5, 2.6, 3.7])"
      ],
      "metadata": {
        "id": "f0Jp6FuCQxdO"
      }
    },
    {
      "cell_type": "code",
      "source": [
        "import numpy as np\n",
        "\n",
        "# Given data\n",
        "arr = np.array([1.5, 2.6, 3.7])\n",
        "\n",
        "# Check if the data type of the array is float64\n",
        "is_float64 = arr.dtype == np.float64\n",
        "\n",
        "print(\"Is the array of type float64?\", is_float64)\n"
      ],
      "metadata": {
        "id": "xt3Tvjt1QzPf",
        "outputId": "7b184008-f473-4345-b083-ccefc11a5539",
        "colab": {
          "base_uri": "https://localhost:8080/"
        }
      },
      "execution_count": null,
      "outputs": [
        {
          "output_type": "stream",
          "name": "stdout",
          "text": [
            "Is the array of type float64? True\n"
          ]
        }
      ]
    },
    {
      "cell_type": "markdown",
      "source": [
        "Q.3  Create a NumPy array 'arr' with a data type of complex128 containing three complex numbers."
      ],
      "metadata": {
        "id": "HiVnIm9yRBWC"
      }
    },
    {
      "cell_type": "code",
      "source": [
        "import numpy as np\n",
        "\n",
        "# Create a NumPy array with complex128 data type\n",
        "arr = np.array([1+2j, 3+4j, 5+6j], dtype=np.complex128)\n",
        "\n",
        "# Print the array\n",
        "print(\"Array:\", arr)\n",
        "\n",
        "# Print the data type of the array\n",
        "print(\"Data type:\", arr.dtype)\n"
      ],
      "metadata": {
        "id": "_xx6C3gYRHaw",
        "outputId": "40ce81ca-8227-487c-fdb6-e332a8ba2ced",
        "colab": {
          "base_uri": "https://localhost:8080/"
        }
      },
      "execution_count": null,
      "outputs": [
        {
          "output_type": "stream",
          "name": "stdout",
          "text": [
            "Array: [1.+2.j 3.+4.j 5.+6.j]\n",
            "Data type: complex128\n"
          ]
        }
      ]
    },
    {
      "cell_type": "markdown",
      "source": [
        "Q.4  Convert an existing NumPy array 'arr' of integers to float32 data type."
      ],
      "metadata": {
        "id": "Todmzl4HRTnW"
      }
    },
    {
      "cell_type": "code",
      "source": [
        "import numpy as np\n",
        "\n",
        "# Example NumPy array of integers\n",
        "arr = np.array([1, 2, 3, 4, 5])\n",
        "\n",
        "# Convert the array to float32 data type\n",
        "arr_float32 = arr.astype(np.float32)\n",
        "\n",
        "# Print the converted array\n",
        "print(\"Converted array:\", arr_float32)\n",
        "\n",
        "# Print the data type of the converted array\n",
        "print(\"Data type:\", arr_float32.dtype)\n"
      ],
      "metadata": {
        "id": "awxvCtIyROs3",
        "outputId": "541ba1de-5bce-4cf7-bdf5-c0b19f53b87b",
        "colab": {
          "base_uri": "https://localhost:8080/"
        }
      },
      "execution_count": null,
      "outputs": [
        {
          "output_type": "stream",
          "name": "stdout",
          "text": [
            "Converted array: [1. 2. 3. 4. 5.]\n",
            "Data type: float32\n"
          ]
        }
      ]
    },
    {
      "cell_type": "markdown",
      "source": [
        "Q.5  Given a NumPy array 'arr' with float64 data type, convert it to float32 to reduce decimal precision."
      ],
      "metadata": {
        "id": "OFxYvhK2RZaz"
      }
    },
    {
      "cell_type": "code",
      "source": [
        "import numpy as np\n",
        "\n",
        "# Example NumPy array with float64 data type\n",
        "arr = np.array([1.1, 2.2, 3.3, 4.4, 5.5], dtype=np.float64)\n",
        "\n",
        "# Convert the array to float32 data type\n",
        "arr_float32 = arr.astype(np.float32)\n",
        "\n",
        "# Print the converted array\n",
        "print(\"Converted array:\", arr_float32)\n",
        "\n",
        "# Print the data type of the converted array\n",
        "print(\"Data type:\", arr_float32.dtype)\n"
      ],
      "metadata": {
        "id": "i3jo37uyRSTh",
        "outputId": "7be1ca1e-2e4e-4591-90e4-5759f0d4eac9",
        "colab": {
          "base_uri": "https://localhost:8080/"
        }
      },
      "execution_count": null,
      "outputs": [
        {
          "output_type": "stream",
          "name": "stdout",
          "text": [
            "Converted array: [1.1 2.2 3.3 4.4 5.5]\n",
            "Data type: float32\n"
          ]
        }
      ]
    },
    {
      "cell_type": "markdown",
      "source": [
        "Q.6 . Write a function array_attributes that takes a NumPy array as input and returns its shape, size, and data\n",
        "type."
      ],
      "metadata": {
        "id": "82rQAHYLRkrq"
      }
    },
    {
      "cell_type": "code",
      "source": [
        "import numpy as np\n",
        "\n",
        "def array_attributes(arr):\n",
        "    \"\"\"\n",
        "    Function to return the shape, size, and data type of a NumPy array.\n",
        "\n",
        "    Parameters:\n",
        "    arr (numpy.ndarray): Input NumPy array\n",
        "\n",
        "    Returns:\n",
        "    tuple: A tuple containing the shape, size, and data type of the array\n",
        "    \"\"\"\n",
        "    shape = arr.shape\n",
        "    size = arr.size\n",
        "    dtype = arr.dtype\n",
        "\n",
        "    return shape, size, dtype\n",
        "\n",
        "# Example usage\n",
        "arr = np.array([1.1, 2.2, 3.3, 4.4, 5.5])\n",
        "attributes = array_attributes(arr)\n",
        "print(\"Shape:\", attributes[0])\n",
        "print(\"Size:\", attributes[1])\n",
        "print(\"Data type:\", attributes[2])\n"
      ],
      "metadata": {
        "id": "7IzdJ7p2RqDq",
        "outputId": "30bda0a8-42b2-4f5c-cc32-b3d067f30315",
        "colab": {
          "base_uri": "https://localhost:8080/"
        }
      },
      "execution_count": null,
      "outputs": [
        {
          "output_type": "stream",
          "name": "stdout",
          "text": [
            "Shape: (5,)\n",
            "Size: 5\n",
            "Data type: float64\n"
          ]
        }
      ]
    },
    {
      "cell_type": "markdown",
      "source": [
        "Q.7.  Create a function array_dimension that takes a NumPy array as input and returns its dimensionality"
      ],
      "metadata": {
        "id": "zh2LcaYgRtrA"
      }
    },
    {
      "cell_type": "code",
      "source": [
        "import numpy as np\n",
        "\n",
        "def array_dimension(arr):\n",
        "    \"\"\"\n",
        "    Function to return the dimensionality of a NumPy array.\n",
        "\n",
        "    Parameters:\n",
        "    arr (numpy.ndarray): Input NumPy array\n",
        "\n",
        "    Returns:\n",
        "    int: The dimensionality of the array\n",
        "    \"\"\"\n",
        "    return arr.ndim\n",
        "\n",
        "# Example usage\n",
        "arr = np.array([[1, 2, 3], [4, 5, 6]])\n",
        "dimension = array_dimension(arr)\n",
        "print(\"Dimensionality:\", dimension)\n"
      ],
      "metadata": {
        "id": "uIYh_O8uR20s",
        "outputId": "f26ea2b8-3ffd-428e-9943-8f66be339def",
        "colab": {
          "base_uri": "https://localhost:8080/"
        }
      },
      "execution_count": null,
      "outputs": [
        {
          "output_type": "stream",
          "name": "stdout",
          "text": [
            "Dimensionality: 2\n"
          ]
        }
      ]
    },
    {
      "cell_type": "markdown",
      "source": [
        "Q.8  Design a function item_size_info that takes a NumPy array as input and returns the item size and the total\n",
        "size in bytes."
      ],
      "metadata": {
        "id": "2WQPPnByR72d"
      }
    },
    {
      "cell_type": "code",
      "source": [
        "import numpy as np\n",
        "\n",
        "def item_size_info(arr):\n",
        "    \"\"\"\n",
        "    Function to return the item size and the total size in bytes of a NumPy array.\n",
        "\n",
        "    Parameters:\n",
        "    arr (numpy.ndarray): Input NumPy array\n",
        "\n",
        "    Returns:\n",
        "    tuple: A tuple containing the item size and the total size in bytes\n",
        "    \"\"\"\n",
        "    item_size = arr.itemsize\n",
        "    total_size = arr.nbytes\n",
        "\n",
        "    return item_size, total_size\n",
        "\n",
        "# Example usage\n",
        "arr = np.array([1, 2, 3, 4, 5])\n",
        "size_info = item_size_info(arr)\n",
        "print(\"Item size:\", size_info[0], \"bytes\")\n",
        "print(\"Total size:\", size_info[1], \"bytes\")\n"
      ],
      "metadata": {
        "id": "A7q8JsfKR-Mf",
        "outputId": "e76f11a0-f851-4fa9-eb94-07e1ebae8963",
        "colab": {
          "base_uri": "https://localhost:8080/"
        }
      },
      "execution_count": null,
      "outputs": [
        {
          "output_type": "stream",
          "name": "stdout",
          "text": [
            "Item size: 8 bytes\n",
            "Total size: 40 bytes\n"
          ]
        }
      ]
    },
    {
      "cell_type": "markdown",
      "source": [
        "Q. 9  Create a function array_strides that takes a NumPy array as input and returns the strides of the array."
      ],
      "metadata": {
        "id": "an1n3Db7SDHs"
      }
    },
    {
      "cell_type": "code",
      "source": [
        "import numpy as np\n",
        "\n",
        "def array_strides(arr):\n",
        "    \"\"\"\n",
        "    Function to return the strides of a NumPy array.\n",
        "\n",
        "    Parameters:\n",
        "    arr (numpy.ndarray): Input NumPy array\n",
        "\n",
        "    Returns:\n",
        "    tuple: A tuple containing the strides of the array\n",
        "    \"\"\"\n",
        "    return arr.strides\n",
        "\n",
        "# Example usage\n",
        "arr = np.array([[1, 2, 3], [4, 5, 6]])\n",
        "strides = array_strides(arr)\n",
        "print(\"Strides:\", strides)\n"
      ],
      "metadata": {
        "id": "irPdqfoLSIR_",
        "outputId": "737c9d8c-0b72-465e-e0cf-85604e399ce7",
        "colab": {
          "base_uri": "https://localhost:8080/"
        }
      },
      "execution_count": null,
      "outputs": [
        {
          "output_type": "stream",
          "name": "stdout",
          "text": [
            "Strides: (24, 8)\n"
          ]
        }
      ]
    },
    {
      "cell_type": "markdown",
      "source": [
        "Q.10 Design a function shape_stride_relationship that takes a NumPy array as input and returns the shape\n",
        "and strides of the array."
      ],
      "metadata": {
        "id": "tm5h1NRoSLgi"
      }
    },
    {
      "cell_type": "code",
      "source": [
        "import numpy as np\n",
        "\n",
        "def shape_stride_relationship(arr):\n",
        "    \"\"\"\n",
        "    Function to return the shape and strides of a NumPy array.\n",
        "\n",
        "    Parameters:\n",
        "    arr (numpy.ndarray): Input NumPy array\n",
        "\n",
        "    Returns:\n",
        "    tuple: A tuple containing the shape and strides of the array\n",
        "    \"\"\"\n",
        "    shape = arr.shape\n",
        "    strides = arr.strides\n",
        "\n",
        "    return shape, strides\n",
        "\n",
        "# Example usage\n",
        "arr = np.array([[1, 2, 3], [4, 5, 6]])\n",
        "shape_strides = shape_stride_relationship(arr)\n",
        "print(\"Shape:\", shape_strides[0])\n",
        "print(\"Strides:\", shape_strides[1])\n"
      ],
      "metadata": {
        "id": "s2bljujuSRb-",
        "outputId": "3a41e6a4-b42d-4025-a78e-ac02b19fa1c6",
        "colab": {
          "base_uri": "https://localhost:8080/"
        }
      },
      "execution_count": null,
      "outputs": [
        {
          "output_type": "stream",
          "name": "stdout",
          "text": [
            "Shape: (2, 3)\n",
            "Strides: (24, 8)\n"
          ]
        }
      ]
    },
    {
      "cell_type": "markdown",
      "source": [
        "Q.11  Create a function `create_zeros_array` that takes an integer `n` as input and returns a NumPy array of\n",
        "zeros with `n` elements."
      ],
      "metadata": {
        "id": "nYNjvsnlSWL3"
      }
    },
    {
      "cell_type": "code",
      "source": [
        "import numpy as np\n",
        "\n",
        "def create_zeros_array(n):\n",
        "    \"\"\"\n",
        "    Function to create a NumPy array of zeros with n elements.\n",
        "\n",
        "    Parameters:\n",
        "    n (int): Number of elements in the array\n",
        "\n",
        "    Returns:\n",
        "    numpy.ndarray: A NumPy array of zeros with n elements\n",
        "    \"\"\"\n",
        "    return np.zeros(n)\n",
        "\n",
        "# Example usage\n",
        "n = 5\n",
        "zeros_array = create_zeros_array(n)\n",
        "print(\"Array of zeros:\", zeros_array)\n"
      ],
      "metadata": {
        "id": "GSL9dBCTSZu7",
        "outputId": "ff9a5e62-3a7e-4fe5-afba-ebf7fd33d9d1",
        "colab": {
          "base_uri": "https://localhost:8080/"
        }
      },
      "execution_count": null,
      "outputs": [
        {
          "output_type": "stream",
          "name": "stdout",
          "text": [
            "Array of zeros: [0. 0. 0. 0. 0.]\n"
          ]
        }
      ]
    },
    {
      "cell_type": "markdown",
      "source": [
        "Q.12  Write a function `create_ones_matrix` that takes integers `rows` and `cols` as inputs and generates a 2D\n",
        "NumPy array filled with ones of size `rows x cols`."
      ],
      "metadata": {
        "id": "E9kBBa09Sd1k"
      }
    },
    {
      "cell_type": "code",
      "source": [
        "import numpy as np\n",
        "\n",
        "def create_ones_matrix(rows, cols):\n",
        "    \"\"\"\n",
        "    Function to create a 2D NumPy array filled with ones of size rows x cols.\n",
        "\n",
        "    Parameters:\n",
        "    rows (int): Number of rows in the array\n",
        "    cols (int): Number of columns in the array\n",
        "\n",
        "    Returns:\n",
        "    numpy.ndarray: A 2D NumPy array filled with ones of size rows x cols\n",
        "    \"\"\"\n",
        "    return np.ones((rows, cols))\n",
        "\n",
        "# Example usage\n",
        "rows = 3\n",
        "cols = 4\n",
        "ones_matrix = create_ones_matrix(rows, cols)\n",
        "print(\"Matrix of ones:\\n\", ones_matrix)\n"
      ],
      "metadata": {
        "id": "KWxuki2_Sghl",
        "outputId": "a1b87f27-cef8-45f9-ac58-56e5fce37477",
        "colab": {
          "base_uri": "https://localhost:8080/"
        }
      },
      "execution_count": null,
      "outputs": [
        {
          "output_type": "stream",
          "name": "stdout",
          "text": [
            "Matrix of ones:\n",
            " [[1. 1. 1. 1.]\n",
            " [1. 1. 1. 1.]\n",
            " [1. 1. 1. 1.]]\n"
          ]
        }
      ]
    },
    {
      "cell_type": "markdown",
      "source": [
        "Q. 13  Write a function `generate_range_array` that takes three integers start, stop, and step as arguments and\n",
        "creates a NumPy array with a range starting from `start`, ending at stop (exclusive), and with the specified\n",
        "`step`."
      ],
      "metadata": {
        "id": "5IzJ91LDSqbO"
      }
    },
    {
      "cell_type": "code",
      "source": [
        "import numpy as np\n",
        "\n",
        "def generate_range_array(start, stop, step):\n",
        "    \"\"\"\n",
        "    Function to create a NumPy array with a range starting from start, ending at stop (exclusive),\n",
        "    and with the specified step.\n",
        "\n",
        "    Parameters:\n",
        "    start (int): The starting value of the range\n",
        "    stop (int): The end value of the range (exclusive)\n",
        "    step (int): The step size between consecutive values\n",
        "\n",
        "    Returns:\n",
        "    numpy.ndarray: A NumPy array with the specified range\n",
        "    \"\"\"\n",
        "    return np.arange(start, stop, step)\n",
        "\n",
        "# Example usage\n",
        "start = 0\n",
        "stop = 10\n",
        "step = 2\n",
        "range_array = generate_range_array(start, stop, step)\n",
        "print(\"Range array:\", range_array)\n"
      ],
      "metadata": {
        "id": "0QTQHKOaSuF9",
        "outputId": "405aaa3f-ca9d-4478-8793-3909559e145e",
        "colab": {
          "base_uri": "https://localhost:8080/"
        }
      },
      "execution_count": null,
      "outputs": [
        {
          "output_type": "stream",
          "name": "stdout",
          "text": [
            "Range array: [0 2 4 6 8]\n"
          ]
        }
      ]
    },
    {
      "cell_type": "markdown",
      "source": [
        "Q.14  Design a function `generate_linear_space` that takes two floats `start`, `stop`, and an integer `num` as\n",
        "arguments and generates a NumPy array with num equally spaced values between `start` and `stop`\n",
        "(inclusive).\n"
      ],
      "metadata": {
        "id": "s6yYvjiESwFE"
      }
    },
    {
      "cell_type": "code",
      "source": [
        "import numpy as np\n",
        "\n",
        "def generate_linear_space(start, stop, num):\n",
        "    \"\"\"\n",
        "    Function to create a NumPy array with num equally spaced values between start and stop (inclusive).\n",
        "\n",
        "    Parameters:\n",
        "    start (float): The starting value of the range\n",
        "    stop (float): The end value of the range\n",
        "    num (int): The number of equally spaced values to generate\n",
        "\n",
        "    Returns:\n",
        "    numpy.ndarray: A NumPy array with the specified range\n",
        "    \"\"\"\n",
        "    return np.linspace(start, stop, num)\n",
        "\n",
        "# Example usage\n",
        "start = 0.0\n",
        "stop = 1.0\n",
        "num = 5\n",
        "linear_space_array = generate_linear_space(start, stop, num)\n",
        "print(\"Linear space array:\", linear_space_array)\n"
      ],
      "metadata": {
        "id": "yRaluLjqS1Us",
        "outputId": "bbda54ba-f92d-40b5-c029-20307fc73d40",
        "colab": {
          "base_uri": "https://localhost:8080/"
        }
      },
      "execution_count": null,
      "outputs": [
        {
          "output_type": "stream",
          "name": "stdout",
          "text": [
            "Linear space array: [0.   0.25 0.5  0.75 1.  ]\n"
          ]
        }
      ]
    },
    {
      "cell_type": "markdown",
      "source": [
        "Q.15  Create a function `create_identity_matrix` that takes an integer `n` as input and generates a square\n",
        "identity matrix of size `n x n` using `numpy.eye`."
      ],
      "metadata": {
        "id": "FkgyrRWiS5jv"
      }
    },
    {
      "cell_type": "code",
      "source": [
        "import numpy as np\n",
        "\n",
        "def create_identity_matrix(n):\n",
        "    \"\"\"\n",
        "    Function to create a square identity matrix of size n x n.\n",
        "\n",
        "    Parameters:\n",
        "    n (int): The size of the identity matrix\n",
        "\n",
        "    Returns:\n",
        "    numpy.ndarray: A square identity matrix of size n x n\n",
        "    \"\"\"\n",
        "    return np.eye(n)\n",
        "\n",
        "# Example usage\n",
        "n = 4\n",
        "identity_matrix = create_identity_matrix(n)\n",
        "print(\"Identity matrix:\\n\", identity_matrix)\n"
      ],
      "metadata": {
        "id": "AJH2zEo8TB9L",
        "outputId": "edb93397-50dd-4892-e08a-7f312f5d5c37",
        "colab": {
          "base_uri": "https://localhost:8080/"
        }
      },
      "execution_count": null,
      "outputs": [
        {
          "output_type": "stream",
          "name": "stdout",
          "text": [
            "Identity matrix:\n",
            " [[1. 0. 0. 0.]\n",
            " [0. 1. 0. 0.]\n",
            " [0. 0. 1. 0.]\n",
            " [0. 0. 0. 1.]]\n"
          ]
        }
      ]
    },
    {
      "cell_type": "markdown",
      "source": [
        "Q.16  Write a function that takes a Python list and converts it into a NumPy array.\n"
      ],
      "metadata": {
        "id": "V3yvGkHBWBXj"
      }
    },
    {
      "cell_type": "code",
      "source": [
        "import numpy as np\n",
        "\n",
        "def list_to_numpy_array(py_list):\n",
        "    \"\"\"\n",
        "    Function to convert a Python list into a NumPy array.\n",
        "\n",
        "    Parameters:\n",
        "    py_list (list): Input Python list\n",
        "\n",
        "    Returns:\n",
        "    numpy.ndarray: A NumPy array converted from the input list\n",
        "    \"\"\"\n",
        "    return np.array(py_list)\n",
        "\n",
        "# Example usage\n",
        "py_list = [1, 2, 3, 4, 5]\n",
        "numpy_array = list_to_numpy_array(py_list)\n",
        "print(\"NumPy array:\", numpy_array)\n",
        "print(\"Data type:\", type(numpy_array))\n"
      ],
      "metadata": {
        "id": "50sJF3NpWVBx",
        "outputId": "066cc5e7-fd9f-471c-caa9-4a2b340fea88",
        "colab": {
          "base_uri": "https://localhost:8080/"
        }
      },
      "execution_count": null,
      "outputs": [
        {
          "output_type": "stream",
          "name": "stdout",
          "text": [
            "NumPy array: [1 2 3 4 5]\n",
            "Data type: <class 'numpy.ndarray'>\n"
          ]
        }
      ]
    },
    {
      "cell_type": "markdown",
      "source": [
        "Q. 17 Create a NumPy array and demonstrate the use of `numpy.view` to create a new array object with the\n",
        "same data."
      ],
      "metadata": {
        "id": "UzOxdqpEW5Jg"
      }
    },
    {
      "cell_type": "code",
      "source": [
        "import numpy as np\n",
        "\n",
        "# Create a NumPy array\n",
        "original_array = np.array([1, 2, 3, 4, 5])\n",
        "\n",
        "# Create a new array object with the same data using numpy.view\n",
        "view_array = original_array.view()\n",
        "\n",
        "# Print the original array and the view array\n",
        "print(\"Original array:\", original_array)\n",
        "print(\"View array:\", view_array)\n",
        "\n",
        "# Modify the view array\n",
        "view_array[0] = 10\n",
        "\n",
        "# Print the arrays after modification\n",
        "print(\"Original array after modification:\", original_array)\n",
        "print(\"View array after modification:\", view_array)\n"
      ],
      "metadata": {
        "id": "RN4Gl5FLW_qu",
        "outputId": "c5faaa16-cdb8-4a57-a3ff-fbf87357d9f5",
        "colab": {
          "base_uri": "https://localhost:8080/"
        }
      },
      "execution_count": null,
      "outputs": [
        {
          "output_type": "stream",
          "name": "stdout",
          "text": [
            "Original array: [1 2 3 4 5]\n",
            "View array: [1 2 3 4 5]\n",
            "Original array after modification: [10  2  3  4  5]\n",
            "View array after modification: [10  2  3  4  5]\n"
          ]
        }
      ]
    },
    {
      "cell_type": "markdown",
      "source": [
        "Q.18  Write a function that takes two NumPy arrays and concatenates them along a specified axis"
      ],
      "metadata": {
        "id": "jHlgtPHQXgDs"
      }
    },
    {
      "cell_type": "code",
      "source": [
        "import numpy as np\n",
        "\n",
        "def concatenate_arrays(arr1, arr2, axis=0):\n",
        "    \"\"\"\n",
        "    Function to concatenate two NumPy arrays along a specified axis.\n",
        "\n",
        "    Parameters:\n",
        "    arr1 (numpy.ndarray): The first input array\n",
        "    arr2 (numpy.ndarray): The second input array\n",
        "    axis (int): The axis along which the arrays will be concatenated (default is 0)\n",
        "\n",
        "    Returns:\n",
        "    numpy.ndarray: The concatenated array\n",
        "    \"\"\"\n",
        "    return np.concatenate((arr1, arr2), axis=axis)\n",
        "\n",
        "# Example usage\n",
        "arr1 = np.array([[1, 2], [3, 4]])\n",
        "arr2 = np.array([[5, 6], [7, 8]])\n",
        "\n",
        "# Concatenate along axis 0 (rows)\n",
        "concatenated_array_0 = concatenate_arrays(arr1, arr2, axis=0)\n",
        "print(\"Concatenated along axis 0:\\n\", concatenated_array_0)\n",
        "\n",
        "# Concatenate along axis 1 (columns)\n",
        "concatenated_array_1 = concatenate_arrays(arr1, arr2, axis=1)\n",
        "print(\"Concatenated along axis 1:\\n\", concatenated_array_1)\n"
      ],
      "metadata": {
        "id": "DMLNQwB7XjsB",
        "outputId": "12462550-5ccb-4f5b-dc63-b0097abca159",
        "colab": {
          "base_uri": "https://localhost:8080/"
        }
      },
      "execution_count": null,
      "outputs": [
        {
          "output_type": "stream",
          "name": "stdout",
          "text": [
            "Concatenated along axis 0:\n",
            " [[1 2]\n",
            " [3 4]\n",
            " [5 6]\n",
            " [7 8]]\n",
            "Concatenated along axis 1:\n",
            " [[1 2 5 6]\n",
            " [3 4 7 8]]\n"
          ]
        }
      ]
    }
  ],
  "metadata": {
    "colab": {
      "provenance": [],
      "include_colab_link": true
    },
    "kernelspec": {
      "display_name": "Python 3",
      "name": "python3"
    }
  },
  "nbformat": 4,
  "nbformat_minor": 0
}