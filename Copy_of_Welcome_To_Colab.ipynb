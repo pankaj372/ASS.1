{
  "cells": [
    {
      "cell_type": "markdown",
      "metadata": {
        "id": "view-in-github",
        "colab_type": "text"
      },
      "source": [
        "<a href=\"https://colab.research.google.com/github/pankaj372/ASS.1/blob/main/Copy_of_Welcome_To_Colab.ipynb\" target=\"_parent\"><img src=\"https://colab.research.google.com/assets/colab-badge.svg\" alt=\"Open In Colab\"/></a>"
      ]
    },
    {
      "cell_type": "markdown",
      "source": [],
      "metadata": {
        "id": "ZxZqYsBmuxBJ"
      }
    },
    {
      "cell_type": "markdown",
      "source": [
        "# Q.1 sum, difference, product and quotient of two number."
      ],
      "metadata": {
        "id": "wpK-zdtoux1p"
      }
    },
    {
      "cell_type": "code",
      "source": [
        "#sum\n",
        "a = 5\n",
        "b = 9\n",
        "sum = a + b\n",
        "print(sum)"
      ],
      "metadata": {
        "colab": {
          "base_uri": "https://localhost:8080/"
        },
        "id": "fLpT_DVLrL_m",
        "outputId": "19026f70-a7c0-4190-a336-c0c8e22ad570"
      },
      "execution_count": null,
      "outputs": [
        {
          "output_type": "stream",
          "name": "stdout",
          "text": [
            "14\n"
          ]
        }
      ]
    },
    {
      "cell_type": "code",
      "source": [
        "# product\n",
        "a = 5\n",
        "b = 9\n",
        "product = a * b\n",
        "print(product)\n"
      ],
      "metadata": {
        "colab": {
          "base_uri": "https://localhost:8080/"
        },
        "id": "RHrRRqoKruCp",
        "outputId": "689d7570-83c8-4987-c8ce-bdbf4727fd39"
      },
      "execution_count": null,
      "outputs": [
        {
          "output_type": "stream",
          "name": "stdout",
          "text": [
            "45\n"
          ]
        }
      ]
    },
    {
      "cell_type": "code",
      "source": [
        "#difference\n",
        "a = 80\n",
        "b = 20\n",
        "result = 80 - 20\n",
        "print(result)\n"
      ],
      "metadata": {
        "colab": {
          "base_uri": "https://localhost:8080/"
        },
        "id": "-oPm40Hws2LT",
        "outputId": "a7c75a1a-4f76-4810-9a16-2713d06b18cd"
      },
      "execution_count": null,
      "outputs": [
        {
          "output_type": "stream",
          "name": "stdout",
          "text": [
            "60\n"
          ]
        }
      ]
    },
    {
      "cell_type": "code",
      "source": [
        "#quotient\n",
        "a = 200\n",
        "b = 20\n",
        "result = 200 / 20\n",
        "print(result)"
      ],
      "metadata": {
        "colab": {
          "base_uri": "https://localhost:8080/"
        },
        "id": "5DlZAsPhuAVk",
        "outputId": "0db3b36c-1fb6-4ba0-ab1a-5bdbb7c7a074"
      },
      "execution_count": null,
      "outputs": [
        {
          "output_type": "stream",
          "name": "stdout",
          "text": [
            "10.0\n"
          ]
        }
      ]
    },
    {
      "cell_type": "markdown",
      "source": [
        "# Q.2 perform various assignment operations on a variable"
      ],
      "metadata": {
        "id": "BciMTjhwvHLj"
      }
    },
    {
      "cell_type": "code",
      "source": [
        "def main():\n",
        "    # Initialize a variable\n",
        "    x = 10\n",
        "\n",
        "    # Perform various assignment operations\n",
        "    x += 5  # Add 5\n",
        "    print(f\"Updated value after adding 5: {x}\")\n",
        "\n",
        "    x -= 3  # Subtract 3\n",
        "    print(f\"Updated value after subtracting 3: {x}\")\n",
        "\n",
        "    x *= 2  # Multiply by 2\n",
        "    print(f\"Updated value after multiplying by 2: {x}\")\n",
        "\n",
        "    x /= 4  # Divide by 4\n",
        "    print(f\"Updated value after dividing by 4: {x}\")\n",
        "\n",
        "    x %= 3  # Compute remainder after division by 3\n",
        "    print(f\"Updated value after taking the remainder: {x}\")\n",
        "\n",
        "    x **= 2  # Raise to the power of 2\n",
        "    print(f\"Updated value after exponentiation: {x}\")\n",
        "\n",
        "    x //= 2  # Integer division by 2\n",
        "    print(f\"Updated value after integer division by 2: {x}\")\n",
        "\n",
        "if __name__ == \"__main__\":\n",
        "    main()\n"
      ],
      "metadata": {
        "colab": {
          "base_uri": "https://localhost:8080/"
        },
        "id": "fMQxvzcuvV72",
        "outputId": "249f49e4-dc2e-4894-f9f0-0432d2a36a24"
      },
      "execution_count": null,
      "outputs": [
        {
          "output_type": "stream",
          "name": "stdout",
          "text": [
            "Updated value after adding 5: 15\n",
            "Updated value after subtracting 3: 12\n",
            "Updated value after multiplying by 2: 24\n",
            "Updated value after dividing by 4: 6.0\n",
            "Updated value after taking the remainder: 0.0\n",
            "Updated value after exponentiation: 0.0\n",
            "Updated value after integer division by 2: 0.0\n"
          ]
        }
      ]
    },
    {
      "cell_type": "markdown",
      "source": [
        "# Q.3 Compare two numbers and print the result"
      ],
      "metadata": {
        "id": "4eq4Hd0L1DQz"
      }
    },
    {
      "cell_type": "code",
      "source": [
        "# Both numbers are equal\n",
        "a = 5\n",
        "b = 5\n",
        "if a == b:\n",
        "    print(\"Both numbers are equal\")\n",
        "else:\n",
        "    print(\"Numbers are not equal\")\n"
      ],
      "metadata": {
        "colab": {
          "base_uri": "https://localhost:8080/"
        },
        "id": "5cZdFu8o1W5w",
        "outputId": "a2f8b4d8-0f77-45eb-b68d-6db6b426a84c"
      },
      "execution_count": null,
      "outputs": [
        {
          "output_type": "stream",
          "name": "stdout",
          "text": [
            "Both numbers are equal\n"
          ]
        }
      ]
    },
    {
      "cell_type": "code",
      "source": [
        "# Both numbers are not equal\n",
        "a = 18\n",
        "b = 5\n",
        "if a == b:\n",
        "    print(\"Both numbers are equal\")\n",
        "else:\n",
        "    print(\"Numbers are not equal\")"
      ],
      "metadata": {
        "colab": {
          "base_uri": "https://localhost:8080/"
        },
        "id": "R8oModFl171P",
        "outputId": "7a21e16a-419e-454d-c1fe-dc413d4d39a0"
      },
      "execution_count": null,
      "outputs": [
        {
          "output_type": "stream",
          "name": "stdout",
          "text": [
            "Numbers are not equal\n"
          ]
        }
      ]
    },
    {
      "cell_type": "markdown",
      "source": [
        "# Q.4 Check conditions $sing logical operators."
      ],
      "metadata": {
        "id": "9H2dQcpTRO6c"
      }
    },
    {
      "cell_type": "code",
      "source": [
        "# Example conditions\n",
        "a = 10\n",
        "b = 5\n",
        "\n",
        "# Using comparison operators\n",
        "print(a == b)  # False\n",
        "print(a > b)   # True\n",
        "print(a != b)  # True\n",
        "\n",
        "# Using logical operators\n",
        "print((a > 3) and (b < 8))  # True\n",
        "print((a > 15) or (b < 2))  # False\n",
        "print(not (a == b))         # True\n",
        "\n"
      ],
      "metadata": {
        "colab": {
          "base_uri": "https://localhost:8080/"
        },
        "id": "z9kFJr8ZRWHT",
        "outputId": "62c5f375-253f-4445-bb9b-272b3761c96b"
      },
      "execution_count": 1,
      "outputs": [
        {
          "output_type": "stream",
          "name": "stdout",
          "text": [
            "False\n",
            "True\n",
            "True\n",
            "True\n",
            "False\n",
            "True\n"
          ]
        }
      ]
    },
    {
      "cell_type": "markdown",
      "source": [
        "# Q.5 Check the identity of Variables\n"
      ],
      "metadata": {
        "id": "VvreOaw0SEYr"
      }
    },
    {
      "cell_type": "code",
      "source": [
        "# Define two variables with the same value\n",
        "x = 10\n",
        "y = 10\n",
        "\n",
        "# Check identity using 'is' operator\n",
        "print(f\"x is y: {x is y}\")\n",
        "\n",
        "# Check identity using 'is not' operator\n",
        "print(f\"x is not y: {x is not y}\")\n"
      ],
      "metadata": {
        "colab": {
          "base_uri": "https://localhost:8080/"
        },
        "id": "zGsdeExGSH7c",
        "outputId": "850e7a42-676f-4559-9939-a303849e2a11"
      },
      "execution_count": 2,
      "outputs": [
        {
          "output_type": "stream",
          "name": "stdout",
          "text": [
            "x is y: True\n",
            "x is not y: False\n"
          ]
        }
      ]
    },
    {
      "cell_type": "markdown",
      "source": [
        "# Q.6 Perform bitwise operations on any two integers."
      ],
      "metadata": {
        "id": "HGI3o4rfSSNZ"
      }
    },
    {
      "cell_type": "code",
      "source": [
        "a = 10  # Binary: 1010\n",
        "b = 6   # Binary: 0110\n",
        "result_and = a & b\n",
        "print(f\"Bitwise AND of {a} and {b} is: {result_and}\")\n"
      ],
      "metadata": {
        "colab": {
          "base_uri": "https://localhost:8080/"
        },
        "id": "ZvIHvCwRSsIw",
        "outputId": "762a8090-801b-47ff-abce-16ecacc90740"
      },
      "execution_count": 3,
      "outputs": [
        {
          "output_type": "stream",
          "name": "stdout",
          "text": [
            "Bitwise AND of 10 and 6 is: 2\n"
          ]
        }
      ]
    },
    {
      "cell_type": "markdown",
      "source": [
        "#Q.7 Use anary operators to change the sign of a number."
      ],
      "metadata": {
        "id": "0jN0uV-tS0Lp"
      }
    },
    {
      "cell_type": "code",
      "source": [
        "number = 42\n",
        "negative_number = -number\n",
        "\n",
        "print(f\"Original number: {number}\")\n",
        "print(f\"Negative number: {negative_number}\")\n"
      ],
      "metadata": {
        "colab": {
          "base_uri": "https://localhost:8080/"
        },
        "id": "Dj4LqMFYTA46",
        "outputId": "2d6aef92-c27a-44b6-84dc-b8edba2ce2c1"
      },
      "execution_count": 4,
      "outputs": [
        {
          "output_type": "stream",
          "name": "stdout",
          "text": [
            "Original number: 42\n",
            "Negative number: -42\n"
          ]
        }
      ]
    },
    {
      "cell_type": "markdown",
      "source": [
        "# Q.8 Use the ternary operator to assign values based on conditions."
      ],
      "metadata": {
        "id": "6aHheWzeTOaJ"
      }
    },
    {
      "cell_type": "code",
      "source": [
        "a = 10\n",
        "b = 15\n",
        "maximum = a if a > b else b\n",
        "print(f\"The maximum of {a} and {b} is {maximum}.\")\n"
      ],
      "metadata": {
        "colab": {
          "base_uri": "https://localhost:8080/"
        },
        "id": "ZrFFyYVcTn4w",
        "outputId": "db54aec0-015d-4166-a62f-2275c918fdee"
      },
      "execution_count": 5,
      "outputs": [
        {
          "output_type": "stream",
          "name": "stdout",
          "text": [
            "The maximum of 10 and 15 is 15.\n"
          ]
        }
      ]
    }
  ],
  "metadata": {
    "colab": {
      "toc_visible": true,
      "provenance": [],
      "include_colab_link": true
    },
    "kernelspec": {
      "display_name": "Python 3",
      "name": "python3"
    }
  },
  "nbformat": 4,
  "nbformat_minor": 0
}