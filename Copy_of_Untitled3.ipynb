{
  "nbformat": 4,
  "nbformat_minor": 0,
  "metadata": {
    "colab": {
      "provenance": [],
      "toc_visible": true,
      "authorship_tag": "ABX9TyMFrfvTp2UGER04NFZhBEVx",
      "include_colab_link": true
    },
    "kernelspec": {
      "name": "python3",
      "display_name": "Python 3"
    },
    "language_info": {
      "name": "python"
    }
  },
  "cells": [
    {
      "cell_type": "markdown",
      "metadata": {
        "id": "view-in-github",
        "colab_type": "text"
      },
      "source": [
        "<a href=\"https://colab.research.google.com/github/pankaj372/ASS.1/blob/main/Copy_of_Untitled3.ipynb\" target=\"_parent\"><img src=\"https://colab.research.google.com/assets/colab-badge.svg\" alt=\"Open In Colab\"/></a>"
      ]
    },
    {
      "cell_type": "markdown",
      "source": [
        "# Q.1 Explain the significance of Python keywords and provide examples of five keywords"
      ],
      "metadata": {
        "id": "P3V8Kam4d4SM"
      }
    },
    {
      "cell_type": "markdown",
      "source": [
        "Python keywords play a crucial role in the language. They are reserved words that have predefined meanings and cannot be used as variable names, function names, or any other identifiers. Let’s explore the significance of Python keywords and provide examples of five commonly used ones:\n",
        "\n",
        "if and else:<br/>\n",
        "These keywords are essential for conditional statements. They allow you to control the flow of your program based on specific conditions."
      ],
      "metadata": {
        "id": "lWTWi6Fu70oM"
      }
    },
    {
      "cell_type": "code",
      "source": [
        "age = 18\n",
        "if age >= 18:\n",
        "    print(\"You are an adult.\")\n",
        "else:\n",
        "    print(\"You are not yet an adult.\")\n"
      ],
      "metadata": {
        "id": "OaUY_NhKd-xh",
        "outputId": "f6eb801e-1882-46ce-c424-6ef4f793c578",
        "colab": {
          "base_uri": "https://localhost:8080/"
        }
      },
      "execution_count": null,
      "outputs": [
        {
          "output_type": "stream",
          "name": "stdout",
          "text": [
            "You are an adult.\n"
          ]
        }
      ]
    },
    {
      "cell_type": "markdown",
      "source": [
        "for and while:<br/>\n",
        "These keywords are used for loops. for iterates over a sequence (like a list or range), while while repeats a block of code as long as a condition is true.\n"
      ],
      "metadata": {
        "id": "TuYbKpq68OjL"
      }
    },
    {
      "cell_type": "code",
      "source": [
        "for i in range(5):\n",
        "    print(i)\n",
        "\n",
        "num = 1\n",
        "while num <= 10:\n",
        "    print(num)\n",
        "    num += 1\n"
      ],
      "metadata": {
        "colab": {
          "base_uri": "https://localhost:8080/"
        },
        "id": "k-HY7wxu8TPc",
        "outputId": "84347161-9951-445e-c2ef-86eb4117ac96"
      },
      "execution_count": 1,
      "outputs": [
        {
          "output_type": "stream",
          "name": "stdout",
          "text": [
            "0\n",
            "1\n",
            "2\n",
            "3\n",
            "4\n",
            "1\n",
            "2\n",
            "3\n",
            "4\n",
            "5\n",
            "6\n",
            "7\n",
            "8\n",
            "9\n",
            "10\n"
          ]
        }
      ]
    },
    {
      "cell_type": "markdown",
      "source": [
        "def:<br/>\n",
        "The def keyword is used to define functions. Functions allow you to encapsulate reusable code blocks.\n"
      ],
      "metadata": {
        "id": "35iiV8VL8mzp"
      }
    },
    {
      "cell_type": "code",
      "source": [
        "def greet(name):\n",
        "    print(f\"Hello, {name}!\")\n",
        "\n",
        "greet(\"Alice\")\n"
      ],
      "metadata": {
        "colab": {
          "base_uri": "https://localhost:8080/"
        },
        "id": "DA-HgfN08t5v",
        "outputId": "a351d233-2b71-4e4e-ad55-8ff7ed6ad17f"
      },
      "execution_count": 2,
      "outputs": [
        {
          "output_type": "stream",
          "name": "stdout",
          "text": [
            "Hello, Alice!\n"
          ]
        }
      ]
    },
    {
      "cell_type": "markdown",
      "source": [
        "return:<br/>\n",
        "The return keyword is used inside functions to specify the value that the function should produce as its result."
      ],
      "metadata": {
        "id": "91EdQlpv9RZU"
      }
    },
    {
      "cell_type": "code",
      "source": [
        "def add(a, b):\n",
        "    return a + b\n",
        "\n",
        "result = add(3, 5)\n",
        "print(f\"Result of addition: {result}\")\n"
      ],
      "metadata": {
        "colab": {
          "base_uri": "https://localhost:8080/"
        },
        "id": "wI1erLy89TUZ",
        "outputId": "40439327-e152-4341-822b-7cca0de77402"
      },
      "execution_count": 3,
      "outputs": [
        {
          "output_type": "stream",
          "name": "stdout",
          "text": [
            "Result of addition: 8\n"
          ]
        }
      ]
    },
    {
      "cell_type": "markdown",
      "source": [
        "class:<br/>\n",
        "The class keyword is used to define classes, which are blueprints for creating objects. Classes encapsulate data and behavior."
      ],
      "metadata": {
        "id": "lvcn2b4u9eHs"
      }
    },
    {
      "cell_type": "code",
      "source": [
        "class Dog:\n",
        "    def __init__(self, name):\n",
        "        self.name = name\n",
        "\n",
        "    def bark(self):\n",
        "        print(f\"{self.name} says woof!\")\n",
        "\n",
        "my_dog = Dog(\"Buddy\")\n",
        "my_dog.bark()\n"
      ],
      "metadata": {
        "colab": {
          "base_uri": "https://localhost:8080/"
        },
        "id": "6lrX3Ed49QtP",
        "outputId": "5b119bb4-a4b3-4e26-e6e0-610f02d68e04"
      },
      "execution_count": 4,
      "outputs": [
        {
          "output_type": "stream",
          "name": "stdout",
          "text": [
            "Buddy says woof!\n"
          ]
        }
      ]
    },
    {
      "cell_type": "markdown",
      "source": [
        "# Q.2 Describe the rules for defining identifiers in Python and provide an example"
      ],
      "metadata": {
        "id": "S3suIETTiCKl"
      }
    },
    {
      "cell_type": "markdown",
      "source": [
        "In Python, identifiers are names given to variables, functions, classes, modules, and other objects. They help make code more readable and easier to understand by giving things relevant names. Here are the rules for defining valid Python identifiers:\n",
        "\n",
        "Keywords:<br/>\n",
        "Keywords (reserved words) cannot be used as identifier names because they have predefined meanings in Python. Attempting to use a keyword as an identifier will result in a SyntaxError.\n",
        "Example: if, else, while, for, def, etc.<br/>\n",
        "Character Set:<br/>\n",
        "Identifiers can contain the following characters:\n",
        "Letters (both lowercase and uppercase): a-z, A-Z\n",
        "Digits: 0-9\n",
        "Underscore: _\n",
        "They cannot start with a digit.<br/>\n",
        "Example: my_variable, user_name, total_sum\n",
        "Case Sensitivity:<br/>\n",
        "Identifiers are case-sensitive. abc and ABC are considered different identifiers.\n",
        "It’s best to use lowercase letters for uniformity across your programs.<br/>\n",
        "Length:<br/>\n",
        "There is no strict limit on the length of an identifier, but excessively long identifiers can hurt readability.\n",
        "Avoid using super long identifiers.\n",
        "Examples of Valid Identifiers:\n",
        "my_variable\n",
        "user_name\n",
        "_test<br/>\n",
        "Examples of Invalid Identifiers:\n",
        "99 (cannot start with a digit)\n",
        "9abc (cannot start with a digit)\n",
        "x+y (only underscores are allowed)"
      ],
      "metadata": {
        "id": "jDW_awOx9t9t"
      }
    },
    {
      "cell_type": "code",
      "source": [
        "print(\"abc\".isidentifier())  # True\n",
        "print(\"99a\".isidentifier())  # False\n",
        "print(\"_\".isidentifier())    # True\n",
        "print(\"for\".isidentifier())  # True (incorrect output; \"for\" is a reserved keyword)\n"
      ],
      "metadata": {
        "colab": {
          "base_uri": "https://localhost:8080/"
        },
        "id": "uGU7MblSiGoa",
        "outputId": "15ccd8c0-2fb7-4611-9d0e-511643037633"
      },
      "execution_count": null,
      "outputs": [
        {
          "output_type": "stream",
          "name": "stdout",
          "text": [
            "True\n",
            "False\n",
            "True\n",
            "True\n"
          ]
        }
      ]
    },
    {
      "cell_type": "markdown",
      "source": [
        "# Q.3 What are comments in Python, and why are they useful? Provide an example?"
      ],
      "metadata": {
        "id": "XjYvexRniiNi"
      }
    },
    {
      "cell_type": "markdown",
      "source": [
        "In Python, comments are non-executable lines of code that are ignored by the interpreter during program execution. They serve as human-readable explanations or annotations within the code. Comments are invaluable for documenting code, providing context, and improving collaboration. Let’s explore their significance and provide an example:\n",
        "\n",
        "1.Enhancing Code Readability:\n",
        "Comments make code more readable by explaining its purpose, logic, or specific sections.\n",
        "They help other developers (and your future self) understand the code more easily.\n",
        "<br/>\n",
        "2.Explaining Code to Others:\n",
        "Comments act as documentation, especially when sharing code with colleagues or collaborators.\n",
        "They provide insights into the code’s functionality and design decisions.\n",
        "<br/>\n",
        "3.Types of Comments in Python:\n",
        "Single-line comments start with # and last until the end of the line.\n",
        "Multiline comments can be achieved using triple-quoted strings (\"\"\"...\"\"\") even though Python doesn’t have a dedicated multiline comment syntax.\n",
        "<br/>"
      ],
      "metadata": {
        "id": "nxVAcxKiahkM"
      }
    },
    {
      "cell_type": "code",
      "source": [
        "# Print \"Hello, World!\" to the console\n",
        "print(\"Hello, World!\")\n"
      ],
      "metadata": {
        "colab": {
          "base_uri": "https://localhost:8080/"
        },
        "id": "fdlTAkIHanJF",
        "outputId": "fd833219-14f1-4aaa-eb82-9c5b6439aac8"
      },
      "execution_count": null,
      "outputs": [
        {
          "output_type": "stream",
          "name": "stdout",
          "text": [
            "Hello, World!\n"
          ]
        }
      ]
    },
    {
      "cell_type": "code",
      "source": [
        "# Print \"Hello, World!\" to the console\n",
        "print(\"Hello nature!\")\n"
      ],
      "metadata": {
        "colab": {
          "base_uri": "https://localhost:8080/"
        },
        "id": "qwF-tQJ9cU1Z",
        "outputId": "a548f83a-7e49-4f61-bb2b-c1b7afdc1e0b"
      },
      "execution_count": null,
      "outputs": [
        {
          "output_type": "stream",
          "name": "stdout",
          "text": [
            "Hello nature!\n"
          ]
        }
      ]
    },
    {
      "cell_type": "markdown",
      "source": [
        "# Q.4   Why is proper indentation important in Python ?\n"
      ],
      "metadata": {
        "id": "sPveKuhKczyx"
      }
    },
    {
      "cell_type": "markdown",
      "source": [
        "Proper indentation in Python is crucial for several reasons:<br/>\n",
        "\n",
        "Code Readability:<br/>\n",
        "Indentation makes your code more readable and organized.\n",
        "It visually separates different blocks of code (such as loops, conditionals, and functions), making it easier to understand the program’s logic.\n",
        "Syntax Requirement:<br/>\n",
        "Python requires consistent indentation to define code blocks.\n",
        "Incorrect indentation leads to IndentationError and prevents your code from running.\n",
        "Logical Structure:<br/>\n",
        "Indentation defines the scope of statements within loops, conditionals, and functions.\n",
        "It clarifies which statements belong to a specific block of code.\n",
        "Uniform Coding Style:<br/>\n",
        "Consistent indentation promotes a uniform coding style across projects.\n",
        "It helps maintain consistency when collaborating with others."
      ],
      "metadata": {
        "id": "pi8RyjsWfLvT"
      }
    },
    {
      "cell_type": "code",
      "source": [
        "def greet(name):\n",
        "    if len(name) > 10:\n",
        "        print(\"Hello, \" + name)\n",
        "    else:\n",
        "        print(\"Hi, \" + name)\n",
        "\n",
        "greet(\"Alice\")\n"
      ],
      "metadata": {
        "colab": {
          "base_uri": "https://localhost:8080/"
        },
        "id": "BiEc2I0TAQt2",
        "outputId": "c3a1cbe7-0174-4165-888a-13780ee926ae"
      },
      "execution_count": 5,
      "outputs": [
        {
          "output_type": "stream",
          "name": "stdout",
          "text": [
            "Hi, Alice\n"
          ]
        }
      ]
    },
    {
      "cell_type": "markdown",
      "source": [
        "# Q5.What happens if indentation is incorrect in Python?"
      ],
      "metadata": {
        "id": "D4KqB6YWAeyM"
      }
    },
    {
      "cell_type": "markdown",
      "source": [
        "Improper indentation in Python can lead to various issues, including syntax errors and logical errors. Let’s explore why proper indentation is crucial and provide an example:<br/>\n",
        "\n",
        "Syntax Errors:<br/>\n",
        "Python relies on indentation to define code blocks (such as loops, conditionals, and functions).\n",
        "Incorrect indentation results in a SyntaxError, preventing your code from running.\n",
        "The interpreter expects consistent indentation to determine the scope of statements within a block.<br/>\n",
        "Logical Errors:<br/>\n",
        "Even if your code runs without syntax errors, incorrect indentation can lead to logical errors.\n",
        "Misplaced or inconsistent indentation can change the intended behavior of your program.\n",
        "Debugging such issues can be challenging."
      ],
      "metadata": {
        "id": "U4f4fdekBR6z"
      }
    },
    {
      "cell_type": "code",
      "source": [
        "def check_number(a):\n",
        "    if a > 2:\n",
        "        if a < 7:\n",
        "            return \"Number is between 2 and 7\"\n",
        "    return \"Number is greater than 2\"\n",
        "\n",
        "a = 5\n",
        "result = check_number(a)\n",
        "print(result)\n"
      ],
      "metadata": {
        "colab": {
          "base_uri": "https://localhost:8080/"
        },
        "id": "rqOGkFECBscK",
        "outputId": "a278ab2e-992c-4590-de4a-9a72e3fabdf1"
      },
      "execution_count": 6,
      "outputs": [
        {
          "output_type": "stream",
          "name": "stdout",
          "text": [
            "Number is between 2 and 7\n"
          ]
        }
      ]
    },
    {
      "cell_type": "markdown",
      "source": [
        "# Q 6.Differentiate between expression and statement in Python with examples?"
      ],
      "metadata": {
        "id": "7XOvZkKRB2Ev"
      }
    },
    {
      "cell_type": "markdown",
      "source": [
        "In Python, expressions and statements serve different purposes. Let’s explore the differences between them:<br/>\n",
        "\n",
        "Expressions:<br/>\n",
        "Definition: An expression is a combination of values, variables, operators, and function calls that evaluates to a single value.<br/>\n",
        "Characteristics:<br/>\n",
        "Expressions can be assigned to variables or used as operands in other expressions.\n",
        "They always produce a value.\n",
        "Examples of expressions:\n",
        "3 + 5\n",
        "len(\"hello\")\n",
        "[x * 2 for x in range(5)]<br/>\n",
        "Statements:<br/>\n",
        "Definition: A statement is a complete line (or lines) of Python code that performs an action or has an effect.\n",
        "Characteristics:\n",
        "Statements can include expressions, but they also perform other tasks (e.g., control flow, assignments, function definitions).\n",
        "They don’t necessarily produce a value.\n",
        "Examples of statements:\n",
        "if statements\n",
        "for loops\n",
        "Function definitions\n",
        "Assignment statements (x = 10)\n",
        "print(\"Hello, World!\")"
      ],
      "metadata": {
        "id": "nR961KijCNb6"
      }
    },
    {
      "cell_type": "code",
      "source": [
        "# Expression: Compute the sum of two numbers\n",
        "result = 3 + 5\n",
        "\n",
        "# Statement: Print a message\n",
        "print(\"Hello, World!\")\n"
      ],
      "metadata": {
        "colab": {
          "base_uri": "https://localhost:8080/"
        },
        "id": "ng4p_C_ICc-V",
        "outputId": "ef7c7129-786e-4c2f-fdd2-c78b044c259a"
      },
      "execution_count": 7,
      "outputs": [
        {
          "output_type": "stream",
          "name": "stdout",
          "text": [
            "Hello, World!\n"
          ]
        }
      ]
    }
  ]
}